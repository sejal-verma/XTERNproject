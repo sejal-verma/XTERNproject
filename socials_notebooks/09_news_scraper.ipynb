{
 "cells": [
  {
   "cell_type": "code",
   "execution_count": null,
   "id": "6acf9adb",
   "metadata": {},
   "outputs": [
    {
     "name": "stdout",
     "output_type": "stream",
     "text": [
      "Searching for news articles with query: grid reliability in MISO states...\n",
      "--> Found 8 articles.\n"
     ]
    },
    {
     "data": {
      "text/html": [
       "<div>\n",
       "<style scoped>\n",
       "    .dataframe tbody tr th:only-of-type {\n",
       "        vertical-align: middle;\n",
       "    }\n",
       "\n",
       "    .dataframe tbody tr th {\n",
       "        vertical-align: top;\n",
       "    }\n",
       "\n",
       "    .dataframe thead th {\n",
       "        text-align: right;\n",
       "    }\n",
       "</style>\n",
       "<table border=\"1\" class=\"dataframe\">\n",
       "  <thead>\n",
       "    <tr style=\"text-align: right;\">\n",
       "      <th></th>\n",
       "      <th>source</th>\n",
       "      <th>title</th>\n",
       "    </tr>\n",
       "  </thead>\n",
       "  <tbody>\n",
       "    <tr>\n",
       "      <th>0</th>\n",
       "      <td>NewsAPI.org</td>\n",
       "      <td>RE+ In Las Vegas Draws 40,000 Clean Tech Profe...</td>\n",
       "    </tr>\n",
       "    <tr>\n",
       "      <th>1</th>\n",
       "      <td>NewsAPI.org</td>\n",
       "      <td>EXCLUSIVE: Big Tech’s ‘Misleading’ Green Energ...</td>\n",
       "    </tr>\n",
       "    <tr>\n",
       "      <th>2</th>\n",
       "      <td>NewsAPI.org</td>\n",
       "      <td>High Electricity Demand Could Boost These 2 Po...</td>\n",
       "    </tr>\n",
       "    <tr>\n",
       "      <th>3</th>\n",
       "      <td>NewsAPI.org</td>\n",
       "      <td>Solar growth surges, but Trump roadblocks put ...</td>\n",
       "    </tr>\n",
       "    <tr>\n",
       "      <th>4</th>\n",
       "      <td>NewsAPI.org</td>\n",
       "      <td>Capital Power executes new contract for Midlan...</td>\n",
       "    </tr>\n",
       "  </tbody>\n",
       "</table>\n",
       "</div>"
      ],
      "text/plain": [
       "        source                                              title\n",
       "0  NewsAPI.org  RE+ In Las Vegas Draws 40,000 Clean Tech Profe...\n",
       "1  NewsAPI.org  EXCLUSIVE: Big Tech’s ‘Misleading’ Green Energ...\n",
       "2  NewsAPI.org  High Electricity Demand Could Boost These 2 Po...\n",
       "3  NewsAPI.org  Solar growth surges, but Trump roadblocks put ...\n",
       "4  NewsAPI.org  Capital Power executes new contract for Midlan..."
      ]
     },
     "metadata": {},
     "output_type": "display_data"
    }
   ],
   "source": [
    "import requests\n",
    "import pandas as pd\n",
    "import os\n",
    "\n",
    "# --- ENTER YOUR API KEY HERE ---\n",
    "api_key = 'b7f587f68b4346efbf4861ee3d002ce5'\n",
    "\n",
    "# The keyword for your search\n",
    "search_keyword = 'grid reliability'\n",
    "\n",
    "# --- CORRECTED URL ---\n",
    "# We search for the keyword AND MISO state names, but remove the unsupported 'country' parameter.\n",
    "miso_states_query = 'indiana OR illinois OR michigan OR iowa OR wisconsin'\n",
    "url = f'https://newsapi.org/v2/everything?q=(\"{search_keyword}\" AND ({miso_states_query}))&language=en&apiKey={api_key}'\n",
    "\n",
    "print(f\"Searching for news articles with query: {search_keyword} in MISO states...\")\n",
    "response = requests.get(url)\n",
    "data = response.json()\n",
    "\n",
    "titles = []\n",
    "if data['status'] == 'ok':\n",
    "    for article in data['articles']:\n",
    "        titles.append(article['title'])\n",
    "    print(f\"--> Found {len(titles)} articles.\")\n",
    "else:\n",
    "    print(f\"--> Error fetching news: {data.get('message', 'Unknown error')}\")\n",
    "\n",
    "# --- SAVE THE RESULTS ---\n",
    "df_news = pd.DataFrame({\n",
    "    'source': 'NewsAPI.org',\n",
    "    'title': titles\n",
    "})\n",
    "\n",
    "display(df_news.head())\n",
    "\n",
    "os.makedirs('../data/raw', exist_ok=True)\n",
    "df_news.to_csv('../data/raw/news_data.csv', index=False)"
   ]
  },
  {
   "cell_type": "code",
   "execution_count": null,
   "id": "46687945",
   "metadata": {},
   "outputs": [],
   "source": []
  }
 ],
 "metadata": {
  "kernelspec": {
   "display_name": "venv",
   "language": "python",
   "name": "python3"
  },
  "language_info": {
   "codemirror_mode": {
    "name": "ipython",
    "version": 3
   },
   "file_extension": ".py",
   "mimetype": "text/x-python",
   "name": "python",
   "nbconvert_exporter": "python",
   "pygments_lexer": "ipython3",
   "version": "3.11.9"
  }
 },
 "nbformat": 4,
 "nbformat_minor": 5
}
