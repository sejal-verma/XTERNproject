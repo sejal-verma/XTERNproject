{
 "cells": [
  {
   "cell_type": "code",
   "execution_count": 1,
   "id": "2cc66017",
   "metadata": {},
   "outputs": [
    {
     "name": "stdout",
     "output_type": "stream",
     "text": [
      "Connecting to Reddit API...\n",
      "Successfully connected to r/energy\n",
      "Fetching the latest 200 posts from r/energy...\n",
      "--> Found 200 total posts.\n",
      "\n",
      "Filtering for mentions of MISO locations...\n",
      "--> Found 2 posts relevant to MISO's territory.\n",
      "\n",
      "Done! Here's your geo-filtered social data:\n"
     ]
    },
    {
     "data": {
      "text/html": [
       "<div>\n",
       "<style scoped>\n",
       "    .dataframe tbody tr th:only-of-type {\n",
       "        vertical-align: middle;\n",
       "    }\n",
       "\n",
       "    .dataframe tbody tr th {\n",
       "        vertical-align: top;\n",
       "    }\n",
       "\n",
       "    .dataframe thead th {\n",
       "        text-align: right;\n",
       "    }\n",
       "</style>\n",
       "<table border=\"1\" class=\"dataframe\">\n",
       "  <thead>\n",
       "    <tr style=\"text-align: right;\">\n",
       "      <th></th>\n",
       "      <th>source</th>\n",
       "      <th>title</th>\n",
       "      <th>url</th>\n",
       "    </tr>\n",
       "  </thead>\n",
       "  <tbody>\n",
       "    <tr>\n",
       "      <th>49</th>\n",
       "      <td>Reddit r/energy</td>\n",
       "      <td>As more renewable energy sources come onto the...</td>\n",
       "      <td>https://www.lpm.org/news/2025-10-03/wind-turbi...</td>\n",
       "    </tr>\n",
       "    <tr>\n",
       "      <th>70</th>\n",
       "      <td>Reddit r/energy</td>\n",
       "      <td>Seems all a state needs is the will to push fo...</td>\n",
       "      <td>https://constructionreviewonline.com/news/reps...</td>\n",
       "    </tr>\n",
       "  </tbody>\n",
       "</table>\n",
       "</div>"
      ],
      "text/plain": [
       "             source                                              title  \\\n",
       "49  Reddit r/energy  As more renewable energy sources come onto the...   \n",
       "70  Reddit r/energy  Seems all a state needs is the will to push fo...   \n",
       "\n",
       "                                                  url  \n",
       "49  https://www.lpm.org/news/2025-10-03/wind-turbi...  \n",
       "70  https://constructionreviewonline.com/news/reps...  "
      ]
     },
     "metadata": {},
     "output_type": "display_data"
    },
    {
     "name": "stdout",
     "output_type": "stream",
     "text": [
      "\n",
      "Filtered data saved to /data/raw/reddit_titles_filtered.csv\n"
     ]
    }
   ],
   "source": [
    "import praw\n",
    "import pandas as pd\n",
    "import os\n",
    "\n",
    "# --- ENTER YOUR CREDENTIALS HERE ---\n",
    "client_id = 'vRIO1v0I35RNbW3KAaR8Ow'\n",
    "client_secret = 'yp-pAuofhdRx_mWJEyhljwpcZaACcg'\n",
    "user_agent = 'yp-pAuofhdRx_mWJEyhljwpcZaACcg'\n",
    "\n",
    "# --- NEW: DEFINE MISO'S GEOGRAPHIC FOOTPRINT ---\n",
    "# A list of keywords to filter for, based on MISO's operating regions\n",
    "miso_locations = [\n",
    "    'montana', 'north dakota', 'south dakota', 'minnesota', 'iowa', 'wisconsin', 'manitoba',\n",
    "    'illinois', 'indiana', 'michigan', 'missouri', 'texas', 'arkansas', 'louisiana',\n",
    "    'mississippi', 'kentucky'\n",
    "]\n",
    "\n",
    "print(\"Connecting to Reddit API...\")\n",
    "reddit = praw.Reddit(\n",
    "    client_id=client_id,\n",
    "    client_secret=client_secret,\n",
    "    user_agent=user_agent,\n",
    ")\n",
    "\n",
    "subreddit = reddit.subreddit('energy')\n",
    "print(f\"Successfully connected to r/{subreddit.display_name}\")\n",
    "\n",
    "titles = []\n",
    "urls = []\n",
    "\n",
    "# Scrape a larger number of posts (e.g., 200) to have a better chance of finding location mentions\n",
    "print(\"Fetching the latest 200 posts from r/energy...\")\n",
    "for submission in subreddit.hot(limit=200):\n",
    "    titles.append(submission.title)\n",
    "    urls.append(submission.url)\n",
    "\n",
    "print(f\"--> Found {len(titles)} total posts.\")\n",
    "\n",
    "# Create the initial DataFrame\n",
    "df_social = pd.DataFrame({\n",
    "    'source': 'Reddit r/energy',\n",
    "    'title': titles,\n",
    "    'url': urls\n",
    "})\n",
    "\n",
    "# --- NEW: FILTER THE DATAFRAME FOR MISO LOCATIONS ---\n",
    "print(f\"\\nFiltering for mentions of MISO locations...\")\n",
    "# Create a regex pattern to search for any of the locations (case-insensitive)\n",
    "search_pattern = '|'.join(miso_locations)\n",
    "df_filtered = df_social[df_social['title'].str.contains(search_pattern, case=False, na=False)]\n",
    "\n",
    "print(f\"--> Found {len(df_filtered)} posts relevant to MISO's territory.\")\n",
    "\n",
    "# --- SAVE THE FILTERED RESULTS ---\n",
    "print(\"\\nDone! Here's your geo-filtered social data:\")\n",
    "display(df_filtered.head())\n",
    "\n",
    "os.makedirs('../data/raw', exist_ok=True)\n",
    "df_filtered.to_csv('../data/raw/reddit_titles_filtered.csv', index=False)\n",
    "print(\"\\nFiltered data saved to /data/raw/reddit_titles_filtered.csv\")"
   ]
  }
 ],
 "metadata": {
  "kernelspec": {
   "display_name": ".MISO-venv",
   "language": "python",
   "name": "python3"
  },
  "language_info": {
   "codemirror_mode": {
    "name": "ipython",
    "version": 3
   },
   "file_extension": ".py",
   "mimetype": "text/x-python",
   "name": "python",
   "nbconvert_exporter": "python",
   "pygments_lexer": "ipython3",
   "version": "3.13.7"
  }
 },
 "nbformat": 4,
 "nbformat_minor": 5
}
