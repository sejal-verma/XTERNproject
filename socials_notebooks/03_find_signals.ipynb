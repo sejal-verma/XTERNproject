{
 "cells": [
  {
   "cell_type": "code",
   "execution_count": 5,
   "id": "622266da",
   "metadata": {},
   "outputs": [
    {
     "name": "stdout",
     "output_type": "stream",
     "text": [
      "Successfully loaded Reddit social data.\n"
     ]
    },
    {
     "data": {
      "text/html": [
       "<div>\n",
       "<style scoped>\n",
       "    .dataframe tbody tr th:only-of-type {\n",
       "        vertical-align: middle;\n",
       "    }\n",
       "\n",
       "    .dataframe tbody tr th {\n",
       "        vertical-align: top;\n",
       "    }\n",
       "\n",
       "    .dataframe thead th {\n",
       "        text-align: right;\n",
       "    }\n",
       "</style>\n",
       "<table border=\"1\" class=\"dataframe\">\n",
       "  <thead>\n",
       "    <tr style=\"text-align: right;\">\n",
       "      <th></th>\n",
       "      <th>source</th>\n",
       "      <th>title</th>\n",
       "      <th>url</th>\n",
       "    </tr>\n",
       "  </thead>\n",
       "  <tbody>\n",
       "    <tr>\n",
       "      <th>0</th>\n",
       "      <td>Reddit r/energy</td>\n",
       "      <td>DOE props up dying coal with $625M days after ...</td>\n",
       "      <td>https://electrek.co/2025/09/29/doe-props-up-dy...</td>\n",
       "    </tr>\n",
       "    <tr>\n",
       "      <th>1</th>\n",
       "      <td>Reddit r/energy</td>\n",
       "      <td>Trump Opens 13 Million Acres for Coal Mines to...</td>\n",
       "      <td>https://www.bloomberg.com/news/articles/2025-0...</td>\n",
       "    </tr>\n",
       "    <tr>\n",
       "      <th>2</th>\n",
       "      <td>Reddit r/energy</td>\n",
       "      <td>The Trump administration’s war on wind</td>\n",
       "      <td>https://www.hcn.org/articles/the-trump-adminis...</td>\n",
       "    </tr>\n",
       "    <tr>\n",
       "      <th>3</th>\n",
       "      <td>Reddit r/energy</td>\n",
       "      <td>Frequent Fox appearances are central to Trump’...</td>\n",
       "      <td>https://www.mediamatters.org/fox-news/frequent...</td>\n",
       "    </tr>\n",
       "    <tr>\n",
       "      <th>4</th>\n",
       "      <td>Reddit r/energy</td>\n",
       "      <td>Solar was the EU's largest single source of el...</td>\n",
       "      <td>https://ec.europa.eu/eurostat/web/products-eur...</td>\n",
       "    </tr>\n",
       "  </tbody>\n",
       "</table>\n",
       "</div>"
      ],
      "text/plain": [
       "            source                                              title  \\\n",
       "0  Reddit r/energy  DOE props up dying coal with $625M days after ...   \n",
       "1  Reddit r/energy  Trump Opens 13 Million Acres for Coal Mines to...   \n",
       "2  Reddit r/energy             The Trump administration’s war on wind   \n",
       "3  Reddit r/energy  Frequent Fox appearances are central to Trump’...   \n",
       "4  Reddit r/energy  Solar was the EU's largest single source of el...   \n",
       "\n",
       "                                                 url  \n",
       "0  https://electrek.co/2025/09/29/doe-props-up-dy...  \n",
       "1  https://www.bloomberg.com/news/articles/2025-0...  \n",
       "2  https://www.hcn.org/articles/the-trump-adminis...  \n",
       "3  https://www.mediamatters.org/fox-news/frequent...  \n",
       "4  https://ec.europa.eu/eurostat/web/products-eur...  "
      ]
     },
     "metadata": {},
     "output_type": "display_data"
    },
    {
     "name": "stdout",
     "output_type": "stream",
     "text": [
      "\n",
      "--- Reddit Titles for Analysis ---\n",
      "['DOE props up dying coal with $625M days after Energy Secretary Chris Wright mocks clean energy subsidies', 'Trump Opens 13 Million Acres for Coal Mines to Aid Ailing Sector', 'The Trump administration’s war on wind', 'Frequent Fox appearances are central to Trump’s climate and energy disinformation strategy. Fox News and Fox Business have not simply covered Trump’s destructive energy agenda — they have served as the administration’s preferred vehicles for selling it to the public.', \"Solar was the EU's largest single source of electricity in June, at 22%, nearly x2 as much as natural gas\", 'Are Renewables Raising Electricity Prices? Probably Not.', \"Gordon cheers Trump's coal revival plan while environmentalists warn of disaster\", 'See How EV Road Trips Went From Impossible to Easy. Routes that once required careful planning now have abundant fast chargers. The vast majority routes between major cities now have a fast charger at least every 100 miles; most have far more than that.', 'Reuters poll forecasts U.S. crude stockpiles to rise by 1M barrels', 'South Africa\\'s mining major launches part of 600 MW renewable energy pipeline whose main aim is to \"easen burden on Eskom\\'s grid\". This comes as the state-owned energy utility continues to face resistance from climate activists against its plans to add more natural gas and oil plants to the grid.', 'Exxon Mobil to cut 2,000 jobs globally (3-4% of workforce) as part of restructuring', 'Houston-based ExxonMobil to lay off roughly 3 percent of global workforce', 'Exxon to lay off thousands in office strategy shift', \"The oil stooge running the Energy Dept. just banned the words 'climate change'\", 'Starting a Battery Startup in Germany/Europe', 'UK: Suppliers want help for billpayers as energy prices rise', 'Is This L.A. Home the Solution to America’s Growing Energy Crisis?', \"Electric vehicle sales skyrocket as industry braces for impact of Trump’s tax credit change. Biden's Inflation Reduction Act EV credit was intended to last until 2032 but Trump's 'big ugly bill' is bringing it to a close years earlier. Car buyers are rushing out to buy EVs as the clock ticks down.\", 'Thoughts on JP Morgan’s 2025 Energy Paper: cautious realism or fossil fuel bias?', 'Sam Altman wants 250 GW’s by 2033', 'Webinar-Well Testing Analysis-Uncertainty Analysis Post-processor: Full session on Hydrocarbon', '‘Mine, Baby, Mine’: Trump Officials Offer $625 Million to Rescue Coal. The new effort, which includes opening 13.1 million acres of federal land for mining and eliminating pollution limits, including mercury and arsenic, aims to save an industry that has been declining for decades.', 'Rolling back appliance efficiency rules could imperil the US manufacturing boom', '‘Mine, Baby, Mine’: Trump Officials Offer $625 Million to Rescue Coal', 'Data centers should bring their own power, Energy secretary says']\n",
      "\n",
      "--- Analysis Results ---\n",
      "Top Social Keywords:   ['13', 'administration', 'analysis', 'baby', 'climate', 'coal', 'energy', 'ev', 'exxon', 'fast', 'fox', 'gas', 'grid', 'major', 'million', 'natural', 'offer', 'officials', 'oil', 'prices', 'rescue', 'routes', 'strategy', 'trump', 'workforce']\n",
      "\n",
      "This analysis is currently based only on social media data.\n",
      "Once your 'official' data source is working, we can compare keywords.\n"
     ]
    }
   ],
   "source": [
    "import pandas as pd\n",
    "from sklearn.feature_extraction.text import CountVectorizer\n",
    "import os\n",
    "\n",
    "# --- 1. LOAD YOUR SOCIAL DATA ---\n",
    "social_path = '../data/raw/reddit_titles.csv'\n",
    "\n",
    "if not os.path.exists(social_path):\n",
    "    print(\"Error: The 'reddit_titles.csv' file was not found.\")\n",
    "    print(f\"- Please make sure you have run the '02_reddit_scraper.ipynb' notebook successfully to create: {social_path}\")\n",
    "else:\n",
    "    df_social = pd.read_csv(social_path)\n",
    "    print(\"Successfully loaded Reddit social data.\")\n",
    "    display(df_social.head())\n",
    "\n",
    "    # --- 2. FIND TOP KEYWORDS (THE SIGNAL) ---\n",
    "    social_titles = df_social['title'].dropna()\n",
    "\n",
    "    # (Optional) Print your titles to see what the script is analyzing\n",
    "    print(\"\\n--- Reddit Titles for Analysis ---\")\n",
    "    print(social_titles.to_list())\n",
    "    \n",
    "    try:\n",
    "        # We use CountVectorizer to count word frequencies, ignoring common English stopwords\n",
    "        vectorizer = CountVectorizer(stop_words='english', max_features=25)\n",
    "        \n",
    "        # Learn the vocabulary and count the words from social titles\n",
    "        social_counts = vectorizer.fit_transform(social_titles)\n",
    "        social_keywords = vectorizer.get_feature_names_out()\n",
    "\n",
    "        print(\"\\n--- Analysis Results ---\")\n",
    "        print(f\"Top Social Keywords:   {list(social_keywords)}\")\n",
    "        print(\"\\nThis analysis is currently based only on social media data.\")\n",
    "        print(\"Once your 'official' data source is working, we can compare keywords.\")\n",
    "\n",
    "    except ValueError as e:\n",
    "        print(\"\\n--- Analysis Error ---\")\n",
    "        print(f\"Could not process keywords from social data. This often means the text is too short after removing common words.\")\n",
    "        print(f\"Original Error: {e}\")\n",
    "        "
   ]
  }
 ],
 "metadata": {
  "kernelspec": {
   "display_name": "venv",
   "language": "python",
   "name": "python3"
  },
  "language_info": {
   "codemirror_mode": {
    "name": "ipython",
    "version": 3
   },
   "file_extension": ".py",
   "mimetype": "text/x-python",
   "name": "python",
   "nbconvert_exporter": "python",
   "pygments_lexer": "ipython3",
   "version": "3.11.9"
  }
 },
 "nbformat": 4,
 "nbformat_minor": 5
}
