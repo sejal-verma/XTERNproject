{
 "cells": [
  {
   "cell_type": "code",
   "execution_count": 1,
   "id": "61c1473d",
   "metadata": {},
   "outputs": [
    {
     "name": "stdout",
     "output_type": "stream",
     "text": [
      "Fetching RSS feed...\n",
      "Finding items in the feed...\n",
      "--> Found 0 titles.\n",
      "Creating DataFrame...\n",
      "Done! Here's your data:\n"
     ]
    },
    {
     "data": {
      "text/html": [
       "<div>\n",
       "<style scoped>\n",
       "    .dataframe tbody tr th:only-of-type {\n",
       "        vertical-align: middle;\n",
       "    }\n",
       "\n",
       "    .dataframe tbody tr th {\n",
       "        vertical-align: top;\n",
       "    }\n",
       "\n",
       "    .dataframe thead th {\n",
       "        text-align: right;\n",
       "    }\n",
       "</style>\n",
       "<table border=\"1\" class=\"dataframe\">\n",
       "  <thead>\n",
       "    <tr style=\"text-align: right;\">\n",
       "      <th></th>\n",
       "      <th>source</th>\n",
       "      <th>title</th>\n",
       "      <th>url</th>\n",
       "    </tr>\n",
       "  </thead>\n",
       "  <tbody>\n",
       "  </tbody>\n",
       "</table>\n",
       "</div>"
      ],
      "text/plain": [
       "Empty DataFrame\n",
       "Columns: [source, title, url]\n",
       "Index: []"
      ]
     },
     "metadata": {},
     "output_type": "display_data"
    }
   ],
   "source": [
    "import requests\n",
    "from bs4 import BeautifulSoup\n",
    "import pandas as pd\n",
    "import os\n",
    "\n",
    "# The URL points to the stable RSS feed\n",
    "url = \"https://www.entergynewsroom.com/rss/\"\n",
    "\n",
    "print(\"Fetching RSS feed...\")\n",
    "response = requests.get(url)\n",
    "\n",
    "# We tell BeautifulSoup to parse this as an XML file\n",
    "soup = BeautifulSoup(response.content, 'xml')\n",
    "\n",
    "titles = []\n",
    "links = []\n",
    "\n",
    "print(\"Finding items in the feed...\")\n",
    "# We look for each '<item>' in the feed, which represents a news article\n",
    "for item in soup.find_all('item'):\n",
    "    # Inside each item, we find the <title> and <link>\n",
    "    title = item.find('title').get_text(strip=True)\n",
    "    link = item.find('link').get_text(strip=True)\n",
    "    \n",
    "    titles.append(title)\n",
    "    links.append(link)\n",
    "\n",
    "print(f\"--> Found {len(titles)} titles.\")\n",
    "\n",
    "print(\"Creating DataFrame...\")\n",
    "df_official = pd.DataFrame({\n",
    "    'source': 'Entergy Newsroom',\n",
    "    'title': titles,\n",
    "    'url': links\n",
    "})\n",
    "\n",
    "print(\"Done! Here's your data:\")\n",
    "display(df_official.head())\n",
    "\n",
    "# Create the folder path if it doesn't exist\n",
    "os.makedirs('../data/raw', exist_ok=True)\n",
    "# Save the full DataFrame to a CSV file\n",
    "df_official.to_csv('../data/raw/entergy_titles.csv', index=False)"
   ]
  }
 ],
 "metadata": {
  "kernelspec": {
   "display_name": ".MISO-venv",
   "language": "python",
   "name": "python3"
  },
  "language_info": {
   "codemirror_mode": {
    "name": "ipython",
    "version": 3
   },
   "file_extension": ".py",
   "mimetype": "text/x-python",
   "name": "python",
   "nbconvert_exporter": "python",
   "pygments_lexer": "ipython3",
   "version": "3.13.7"
  }
 },
 "nbformat": 4,
 "nbformat_minor": 5
}
