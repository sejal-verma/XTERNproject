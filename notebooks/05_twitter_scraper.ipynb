{
 "cells": [
  {
   "cell_type": "code",
   "execution_count": 4,
   "id": "5289beea",
   "metadata": {},
   "outputs": [
    {
     "name": "stdout",
     "output_type": "stream",
     "text": [
      "Connecting to X API...\n",
      "Connection successful.\n",
      "Searching for tweets with query: (\"grid reliability\" OR \"interconnection queue\") (indiana OR illinois OR michigan OR manitoba OR iowa) -is:retweet lang:en\n",
      "--> Found 1 tweets.\n",
      "\n",
      "Done! Here's your X data:\n"
     ]
    },
    {
     "data": {
      "text/html": [
       "<div>\n",
       "<style scoped>\n",
       "    .dataframe tbody tr th:only-of-type {\n",
       "        vertical-align: middle;\n",
       "    }\n",
       "\n",
       "    .dataframe tbody tr th {\n",
       "        vertical-align: top;\n",
       "    }\n",
       "\n",
       "    .dataframe thead th {\n",
       "        text-align: right;\n",
       "    }\n",
       "</style>\n",
       "<table border=\"1\" class=\"dataframe\">\n",
       "  <thead>\n",
       "    <tr style=\"text-align: right;\">\n",
       "      <th></th>\n",
       "      <th>source</th>\n",
       "      <th>title</th>\n",
       "    </tr>\n",
       "  </thead>\n",
       "  <tbody>\n",
       "    <tr>\n",
       "      <th>0</th>\n",
       "      <td>X (Twitter)</td>\n",
       "      <td>The House recently passed the GRID Power Act t...</td>\n",
       "    </tr>\n",
       "  </tbody>\n",
       "</table>\n",
       "</div>"
      ],
      "text/plain": [
       "        source                                              title\n",
       "0  X (Twitter)  The House recently passed the GRID Power Act t..."
      ]
     },
     "metadata": {},
     "output_type": "display_data"
    }
   ],
   "source": [
    "import tweepy\n",
    "import pandas as pd\n",
    "import os\n",
    "\n",
    "# --- ENTER YOUR CREDENTIALS HERE ---\n",
    "# Replace this placeholder with your actual Bearer Token\n",
    "bearer_token = 'AAAAAAAAAAAAAAAAAAAAAAtY4gEAAAAAl%2BHB4yKJTpdGNlUMDyz1REblMjY%3Dgbpb4gzRe52yRGVCIp7S5S0GkezuekCBX2a49PgXTia9OKH0br'\n",
    "\n",
    "print(\"Connecting to X API...\")\n",
    "# Authenticate with the X API v2\n",
    "client = tweepy.Client(bearer_token)\n",
    "print(\"Connection successful.\")\n",
    "\n",
    "# --- DEFINE YOUR SEARCH QUERY ---\n",
    "# This query looks for tweets containing the exact phrases \"grid reliability\" OR \"interconnection queue\".\n",
    "# It excludes retweets and only includes tweets in English.\n",
    "query = '(\"grid reliability\" OR \"interconnection queue\") (indiana OR illinois OR michigan OR manitoba OR iowa) -is:retweet lang:en'\n",
    "\n",
    "print(f\"Searching for tweets with query: {query}\")\n",
    "\n",
    "# --- SEARCH FOR TWEETS ---\n",
    "# Search for the 100 most recent tweets that match the query\n",
    "response = client.search_recent_tweets(query=query, max_results=100)\n",
    "\n",
    "# The API v2 returns data in a specific structure, we need to access the 'data' field\n",
    "tweets = response.data\n",
    "\n",
    "tweets_text = []\n",
    "if tweets:\n",
    "    for tweet in tweets:\n",
    "        tweets_text.append(tweet.text)\n",
    "    print(f\"--> Found {len(tweets_text)} tweets.\")\n",
    "else:\n",
    "    print(\"--> Found 0 tweets matching your query.\")\n",
    "\n",
    "# --- SAVE THE RESULTS ---\n",
    "# Create a DataFrame\n",
    "df_twitter = pd.DataFrame({\n",
    "    'source': 'X (Twitter)',\n",
    "    'title': tweets_text # We use the 'title' column name for consistency with other data files\n",
    "})\n",
    "\n",
    "print(\"\\nDone! Here's your X data:\")\n",
    "display(df_twitter.head())\n",
    "\n",
    "# Save the results to a new CSV file\n",
    "os.makedirs('../data/raw', exist_ok=True)\n",
    "df_twitter.to_csv('../data/raw/twitter_data.csv', index=False)"
   ]
  }
 ],
 "metadata": {
  "kernelspec": {
   "display_name": "venv",
   "language": "python",
   "name": "python3"
  },
  "language_info": {
   "codemirror_mode": {
    "name": "ipython",
    "version": 3
   },
   "file_extension": ".py",
   "mimetype": "text/x-python",
   "name": "python",
   "nbconvert_exporter": "python",
   "pygments_lexer": "ipython3",
   "version": "3.11.9"
  }
 },
 "nbformat": 4,
 "nbformat_minor": 5
}
