{
 "cells": [
  {
   "cell_type": "code",
   "execution_count": 2,
   "id": "622266da",
   "metadata": {},
   "outputs": [
    {
     "name": "stdout",
     "output_type": "stream",
     "text": [
      "Successfully loaded Reddit social data.\n"
     ]
    },
    {
     "data": {
      "text/html": [
       "<div>\n",
       "<style scoped>\n",
       "    .dataframe tbody tr th:only-of-type {\n",
       "        vertical-align: middle;\n",
       "    }\n",
       "\n",
       "    .dataframe tbody tr th {\n",
       "        vertical-align: top;\n",
       "    }\n",
       "\n",
       "    .dataframe thead th {\n",
       "        text-align: right;\n",
       "    }\n",
       "</style>\n",
       "<table border=\"1\" class=\"dataframe\">\n",
       "  <thead>\n",
       "    <tr style=\"text-align: right;\">\n",
       "      <th></th>\n",
       "      <th>source</th>\n",
       "      <th>title</th>\n",
       "      <th>url</th>\n",
       "    </tr>\n",
       "  </thead>\n",
       "  <tbody>\n",
       "    <tr>\n",
       "      <th>0</th>\n",
       "      <td>Reddit r/energy</td>\n",
       "      <td>As more renewable energy sources come onto the...</td>\n",
       "      <td>https://www.lpm.org/news/2025-10-03/wind-turbi...</td>\n",
       "    </tr>\n",
       "    <tr>\n",
       "      <th>1</th>\n",
       "      <td>Reddit r/energy</td>\n",
       "      <td>Seems all a state needs is the will to push fo...</td>\n",
       "      <td>https://constructionreviewonline.com/news/reps...</td>\n",
       "    </tr>\n",
       "  </tbody>\n",
       "</table>\n",
       "</div>"
      ],
      "text/plain": [
       "            source                                              title  \\\n",
       "0  Reddit r/energy  As more renewable energy sources come onto the...   \n",
       "1  Reddit r/energy  Seems all a state needs is the will to push fo...   \n",
       "\n",
       "                                                 url  \n",
       "0  https://www.lpm.org/news/2025-10-03/wind-turbi...  \n",
       "1  https://constructionreviewonline.com/news/reps...  "
      ]
     },
     "metadata": {},
     "output_type": "display_data"
    },
    {
     "name": "stdout",
     "output_type": "stream",
     "text": [
      "\n",
      "--- Reddit Titles for Analysis ---\n",
      "['As more renewable energy sources come onto the grid, Kentucky is trying to find its role in this emerging economy.', \"Seems all a state needs is the will to push for renewables. High-quality solar irradiance, a largely deregulated grid also play a big part in Texas' growing renewables portfolio. The Lone Star state continues to increase its capacity after breaking ground a 595 MW solar project in Leon County.\"]\n",
      "\n",
      "--- Analysis Results ---\n",
      "Top Social Keywords:   ['595', 'big', 'breaking', 'capacity', 'come', 'continues', 'grid', 'kentucky', 'largely', 'leon', 'lone', 'mw', 'needs', 'play', 'portfolio', 'project', 'push', 'quality', 'renewable', 'renewables', 'role', 'solar', 'sources', 'star', 'state']\n",
      "\n",
      "This analysis is currently based only on social media data.\n",
      "Once your 'official' data source is working, we can compare keywords.\n"
     ]
    }
   ],
   "source": [
    "import pandas as pd\n",
    "from sklearn.feature_extraction.text import CountVectorizer\n",
    "import os\n",
    "\n",
    "# --- 1. LOAD YOUR SOCIAL DATA ---\n",
    "social_path = '../data/raw/reddit_titles_filtered.csv'\n",
    "\n",
    "if not os.path.exists(social_path):\n",
    "    print(\"Error: The 'reddit_titles.csv' file was not found.\")\n",
    "    print(f\"- Please make sure you have run the '02_reddit_scraper.ipynb' notebook successfully to create: {social_path}\")\n",
    "else:\n",
    "    df_social = pd.read_csv(social_path)\n",
    "    print(\"Successfully loaded Reddit social data.\")\n",
    "    display(df_social.head())\n",
    "\n",
    "    # --- 2. FIND TOP KEYWORDS (THE SIGNAL) ---\n",
    "    social_titles = df_social['title'].dropna()\n",
    "\n",
    "    # (Optional) Print your titles to see what the script is analyzing\n",
    "    print(\"\\n--- Reddit Titles for Analysis ---\")\n",
    "    print(social_titles.to_list())\n",
    "    \n",
    "    try:\n",
    "        # We use CountVectorizer to count word frequencies, ignoring common English stopwords\n",
    "        vectorizer = CountVectorizer(stop_words='english', max_features=25)\n",
    "        \n",
    "        # Learn the vocabulary and count the words from social titles\n",
    "        social_counts = vectorizer.fit_transform(social_titles)\n",
    "        social_keywords = vectorizer.get_feature_names_out()\n",
    "\n",
    "        print(\"\\n--- Analysis Results ---\")\n",
    "        print(f\"Top Social Keywords:   {list(social_keywords)}\")\n",
    "        print(\"\\nThis analysis is currently based only on social media data.\")\n",
    "        print(\"Once your 'official' data source is working, we can compare keywords.\")\n",
    "\n",
    "    except ValueError as e:\n",
    "        print(\"\\n--- Analysis Error ---\")\n",
    "        print(f\"Could not process keywords from social data. This often means the text is too short after removing common words.\")\n",
    "        print(f\"Original Error: {e}\")\n",
    "        "
   ]
  },
  {
   "cell_type": "code",
   "execution_count": null,
   "id": "31ae711c",
   "metadata": {},
   "outputs": [],
   "source": []
  }
 ],
 "metadata": {
  "kernelspec": {
   "display_name": ".MISO-venv",
   "language": "python",
   "name": "python3"
  },
  "language_info": {
   "codemirror_mode": {
    "name": "ipython",
    "version": 3
   },
   "file_extension": ".py",
   "mimetype": "text/x-python",
   "name": "python",
   "nbconvert_exporter": "python",
   "pygments_lexer": "ipython3",
   "version": "3.13.7"
  }
 },
 "nbformat": 4,
 "nbformat_minor": 5
}
