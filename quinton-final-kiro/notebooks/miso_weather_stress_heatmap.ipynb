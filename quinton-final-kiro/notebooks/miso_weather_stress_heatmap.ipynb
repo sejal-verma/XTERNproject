{
 "cells": [
  {
   "cell_type": "markdown",
   "metadata": {},
   "source": [
    "# MISO Weather-Stress Heatmap MVP\n",
    "\n",
    "## Overview\n",
    "This notebook generates weather-related grid stress risk assessments for the MISO footprint using short-term weather forecasts and infrastructure data. The system produces interactive heat maps for multiple forecast horizons (12h, 24h, 36h, 48h) with transparent, explainable risk scoring.\n",
    "\n",
    "## Key Features\n",
    "- **Multi-source weather data**: NOAA/NWS primary, Open-Meteo fallback\n",
    "- **Infrastructure integration**: EIA capacity data, Census population, transmission density\n",
    "- **Transparent risk scoring**: Configurable weights, documented methodology\n",
    "- **Interactive visualization**: Folium maps with tooltips and layer controls\n",
    "- **Confidence metrics**: Data coverage and forecast horizon-based confidence\n",
    "- **Reproducible analysis**: Fixed random seeds, comprehensive logging\n",
    "\n",
    "## Methodology\n",
    "Risk = zscore(α×Hazard + β×Exposure + γ×Vulnerability)\n",
    "- **Hazard**: Weather stress (thermal, wind, precipitation, storms)\n",
    "- **Exposure**: Population density and load factors\n",
    "- **Vulnerability**: Renewable share, transmission scarcity, outage flags\n",
    "\n",
    "---"
   ]
  },
  {
   "cell_type": "markdown",
   "metadata": {},
   "source": [
    "## Configuration and Setup"
   ]
  },
  {
   "cell_type": "code",
   "execution_count": 1,
   "metadata": {},
   "outputs": [
    {
     "name": "stdout",
     "output_type": "stream",
     "text": [
      "✓ All imports successful\n",
      "Notebook initialized at: 2025-10-10 04:54:21\n"
     ]
    }
   ],
   "source": [
    "# Core imports\n",
    "import os\n",
    "import sys\n",
    "import yaml\n",
    "import json\n",
    "import logging\n",
    "from datetime import datetime, timedelta\n",
    "from typing import Dict, List, Tuple, Optional, Union\n",
    "from dataclasses import dataclass\n",
    "from abc import ABC, abstractmethod\n",
    "import warnings\n",
    "warnings.filterwarnings('ignore')\n",
    "\n",
    "# Data processing\n",
    "import numpy as np\n",
    "import pandas as pd\n",
    "import geopandas as gpd\n",
    "from shapely.geometry import Point, Polygon, MultiPolygon\n",
    "from shapely.ops import unary_union\n",
    "import h3\n",
    "\n",
    "# Spatial and coordinate systems\n",
    "import pyproj\n",
    "from pyproj import CRS, Transformer\n",
    "import rasterio\n",
    "from rasterio.features import shapes\n",
    "from rasterio.transform import from_bounds\n",
    "\n",
    "# Weather and web APIs\n",
    "import requests\n",
    "from requests.adapters import HTTPAdapter\n",
    "from urllib3.util.retry import Retry\n",
    "import time\n",
    "\n",
    "# Visualization\n",
    "import folium\n",
    "from folium import plugins\n",
    "import plotly.express as px\n",
    "import plotly.graph_objects as go\n",
    "from plotly.subplots import make_subplots\n",
    "import matplotlib.pyplot as plt\n",
    "import seaborn as sns\n",
    "\n",
    "# Statistical analysis\n",
    "from scipy import stats\n",
    "from sklearn.preprocessing import StandardScaler, MinMaxScaler\n",
    "from sklearn.metrics import mean_squared_error, mean_absolute_error\n",
    "\n",
    "print(\"✓ All imports successful\")\n",
    "print(f\"Notebook initialized at: {datetime.now().strftime('%Y-%m-%d %H:%M:%S')}\")"
   ]
  },
  {
   "cell_type": "code",
   "execution_count": 2,
   "metadata": {},
   "outputs": [
    {
     "name": "stderr",
     "output_type": "stream",
     "text": [
      "2025-10-10 04:54:21,816 - INFO - Random seed set to: 42\n"
     ]
    },
    {
     "name": "stdout",
     "output_type": "stream",
     "text": [
      "✓ Configuration manager initialized\n"
     ]
    }
   ],
   "source": [
    "# Configuration Manager\n",
    "class ConfigurationManager:\n",
    "    \"\"\"Centralized configuration handling and runtime mode management\"\"\"\n",
    "    \n",
    "    def __init__(self):\n",
    "        self.config = self._load_default_config()\n",
    "        self.runtime_mode = \"demo\"  # Default to demo mode\n",
    "        self.random_seed = 42\n",
    "        self._setup_logging()\n",
    "        self._set_random_seed()\n",
    "    \n",
    "    def _load_default_config(self) -> Dict:\n",
    "        \"\"\"Load default configuration with all required parameters\"\"\"\n",
    "        return {\n",
    "            'runtime': {\n",
    "                'mode': 'demo',\n",
    "                'horizons_h': [12, 24, 36, 48],\n",
    "                'crs': 'EPSG:4326',\n",
    "                'random_seed': 42,\n",
    "                'hex_size_km': 40,\n",
    "                'api_timeout': 30,\n",
    "                'max_retries': 3\n",
    "            },\n",
    "            'weights': {\n",
    "                'hazard': {\n",
    "                    'thermal': 0.3,\n",
    "                    'wind': 0.3,\n",
    "                    'precip': 0.25,\n",
    "                    'storm': 0.15\n",
    "                },\n",
    "                'exposure': {\n",
    "                    'pop': 0.7,\n",
    "                    'load': 0.3\n",
    "                },\n",
    "                'vulnerability': {\n",
    "                    'renew_share': 0.6,\n",
    "                    'tx_scarcity': 0.3,\n",
    "                    'outage': 0.1\n",
    "                },\n",
    "                'blend': {\n",
    "                    'alpha': 0.5,  # hazard weight\n",
    "                    'beta': 0.3,   # exposure weight\n",
    "                    'gamma': 0.2   # vulnerability weight\n",
    "                }\n",
    "            },\n",
    "            'thresholds': {\n",
    "                'thermal': {\n",
    "                    'heat_low': 85,   # °F\n",
    "                    'heat_high': 100,\n",
    "                    'cold_low': 10,\n",
    "                    'cold_high': 0\n",
    "                },\n",
    "                'wind': {\n",
    "                    'gust_low': 20,   # mph\n",
    "                    'gust_high': 50,\n",
    "                    'sustained_threshold': 30\n",
    "                },\n",
    "                'precip': {\n",
    "                    'rain_heavy': 10,  # mm/h\n",
    "                    'snow_heavy': 5,   # cm/h\n",
    "                    'ice_threshold': 0  # any ice = max score\n",
    "                },\n",
    "                'confidence': {\n",
    "                    'base_confidence': 0.9,\n",
    "                    'horizon_decay': 0.05,  # confidence decrease per 12h\n",
    "                    'coverage_threshold': 0.8\n",
    "                }\n",
    "            },\n",
    "            'data_sources': {\n",
    "                'noaa_base_url': 'https://api.weather.gov',\n",
    "                'openmeteo_base_url': 'https://api.open-meteo.com/v1/forecast',\n",
    "                'eia_capacity_url': 'https://www.eia.gov/electricity/data/eia860/',\n",
    "                'census_api_base': 'https://api.census.gov/data'\n",
    "            },\n",
    "            'output': {\n",
    "                'map_width': 1200,\n",
    "                'map_height': 800,\n",
    "                'color_scale': 'YlOrRd',\n",
    "                'export_formats': ['html', 'png', 'csv', 'md']\n",
    "            }\n",
    "        }\n",
    "    \n",
    "    def load_config_from_yaml(self, yaml_string: str) -> None:\n",
    "        \"\"\"Load configuration from YAML string and merge with defaults\"\"\"\n",
    "        try:\n",
    "            user_config = yaml.safe_load(yaml_string)\n",
    "            if user_config:\n",
    "                self._deep_merge(self.config, user_config)\n",
    "                self.validate_config()\n",
    "                logging.info(\"Configuration updated from YAML\")\n",
    "        except yaml.YAMLError as e:\n",
    "            logging.error(f\"YAML parsing error: {e}\")\n",
    "            raise\n",
    "    \n",
    "    def _deep_merge(self, base_dict: Dict, update_dict: Dict) -> None:\n",
    "        \"\"\"Recursively merge update_dict into base_dict\"\"\"\n",
    "        for key, value in update_dict.items():\n",
    "            if key in base_dict and isinstance(base_dict[key], dict) and isinstance(value, dict):\n",
    "                self._deep_merge(base_dict[key], value)\n",
    "            else:\n",
    "                base_dict[key] = value\n",
    "    \n",
    "    def set_runtime_mode(self, mode: str) -> None:\n",
    "        \"\"\"Switch between demo and live modes\"\"\"\n",
    "        if mode not in ['demo', 'live']:\n",
    "            raise ValueError(\"Mode must be 'demo' or 'live'\")\n",
    "        \n",
    "        self.runtime_mode = mode\n",
    "        self.config['runtime']['mode'] = mode\n",
    "        logging.info(f\"Runtime mode set to: {mode}\")\n",
    "    \n",
    "    def validate_config(self) -> bool:\n",
    "        \"\"\"Validate configuration completeness and consistency\"\"\"\n",
    "        required_sections = ['runtime', 'weights', 'thresholds', 'data_sources', 'output']\n",
    "        \n",
    "        for section in required_sections:\n",
    "            if section not in self.config:\n",
    "                raise ValueError(f\"Missing required config section: {section}\")\n",
    "        \n",
    "        # Validate weight sums\n",
    "        hazard_sum = sum(self.config['weights']['hazard'].values())\n",
    "        if not (0.95 <= hazard_sum <= 1.05):  # Allow small floating point errors\n",
    "            logging.warning(f\"Hazard weights sum to {hazard_sum:.3f}, not 1.0\")\n",
    "        \n",
    "        blend_sum = sum(self.config['weights']['blend'].values())\n",
    "        if not (0.95 <= blend_sum <= 1.05):\n",
    "            logging.warning(f\"Blend weights sum to {blend_sum:.3f}, not 1.0\")\n",
    "        \n",
    "        return True\n",
    "    \n",
    "    def _setup_logging(self) -> None:\n",
    "        \"\"\"Configure logging system\"\"\"\n",
    "        logging.basicConfig(\n",
    "            level=logging.INFO,\n",
    "            format='%(asctime)s - %(levelname)s - %(message)s',\n",
    "            handlers=[\n",
    "                logging.StreamHandler(),\n",
    "                logging.FileHandler('output/miso_heatmap.log')\n",
    "            ]\n",
    "        )\n",
    "    \n",
    "    def _set_random_seed(self) -> None:\n",
    "        \"\"\"Set random seed for reproducibility\"\"\"\n",
    "        self.random_seed = self.config['runtime']['random_seed']\n",
    "        np.random.seed(self.random_seed)\n",
    "        logging.info(f\"Random seed set to: {self.random_seed}\")\n",
    "    \n",
    "    def get_config(self) -> Dict:\n",
    "        \"\"\"Return current configuration\"\"\"\n",
    "        return self.config.copy()\n",
    "    \n",
    "    def get_runtime_mode(self) -> str:\n",
    "        \"\"\"Return current runtime mode\"\"\"\n",
    "        return self.runtime_mode\n",
    "    \n",
    "    def log_config_summary(self) -> None:\n",
    "        \"\"\"Log key configuration parameters\"\"\"\n",
    "        config = self.config\n",
    "        logging.info(\"=== Configuration Summary ===\")\n",
    "        logging.info(f\"Runtime mode: {self.runtime_mode}\")\n",
    "        logging.info(f\"Forecast horizons: {config['runtime']['horizons_h']}\")\n",
    "        logging.info(f\"Coordinate system: {config['runtime']['crs']}\")\n",
    "        logging.info(f\"Hex grid size: {config['runtime']['hex_size_km']} km\")\n",
    "        logging.info(f\"Random seed: {self.random_seed}\")\n",
    "        logging.info(f\"Blend weights - α:{config['weights']['blend']['alpha']}, β:{config['weights']['blend']['beta']}, γ:{config['weights']['blend']['gamma']}\")\n",
    "\n",
    "# Initialize configuration manager\n",
    "config_manager = ConfigurationManager()\n",
    "print(\"✓ Configuration manager initialized\")"
   ]
  },
  {
   "cell_type": "markdown",
   "metadata": {},
   "source": [
    "### User Configuration (YAML)\n",
    "Modify the configuration below to customize weights, thresholds, and runtime parameters:"
   ]
  },
  {
   "cell_type": "code",
   "execution_count": 3,
   "metadata": {},
   "outputs": [
    {
     "name": "stderr",
     "output_type": "stream",
     "text": [
      "2025-10-10 04:54:21,821 - INFO - Configuration updated from YAML\n",
      "2025-10-10 04:54:21,822 - INFO - === Configuration Summary ===\n",
      "2025-10-10 04:54:21,822 - INFO - Runtime mode: demo\n",
      "2025-10-10 04:54:21,823 - INFO - Forecast horizons: [12, 24, 36, 48]\n",
      "2025-10-10 04:54:21,823 - INFO - Coordinate system: EPSG:4326\n",
      "2025-10-10 04:54:21,823 - INFO - Hex grid size: 40 km\n",
      "2025-10-10 04:54:21,823 - INFO - Random seed: 42\n",
      "2025-10-10 04:54:21,824 - INFO - Blend weights - α:0.5, β:0.3, γ:0.2\n"
     ]
    },
    {
     "name": "stdout",
     "output_type": "stream",
     "text": [
      "✓ User configuration loaded and validated\n"
     ]
    }
   ],
   "source": [
    "# User-configurable YAML configuration\n",
    "# Modify values below to customize the analysis\n",
    "\n",
    "user_config_yaml = \"\"\"\n",
    "runtime:\n",
    "  mode: \"demo\"  # Change to \"live\" for real API calls\n",
    "  horizons_h: [12, 24, 36, 48]\n",
    "  hex_size_km: 40\n",
    "\n",
    "weights:\n",
    "  # Hazard component weights (should sum to 1.0)\n",
    "  hazard:\n",
    "    thermal: 0.30   # Temperature extremes (heat/cold)\n",
    "    wind: 0.30      # Wind gusts and sustained winds\n",
    "    precip: 0.25    # Rain, snow, ice precipitation\n",
    "    storm: 0.15     # Combined storm conditions\n",
    "  \n",
    "  # Exposure component weights\n",
    "  exposure:\n",
    "    pop: 0.70       # Population density weight\n",
    "    load: 0.30      # Load center weight (if available)\n",
    "  \n",
    "  # Vulnerability component weights\n",
    "  vulnerability:\n",
    "    renew_share: 0.60    # Renewable generation share\n",
    "    tx_scarcity: 0.30    # Transmission line density\n",
    "    outage: 0.10         # Historical outage flags\n",
    "  \n",
    "  # Final risk blend weights (should sum to 1.0)\n",
    "  blend:\n",
    "    alpha: 0.50     # Hazard weight in final risk\n",
    "    beta: 0.30      # Exposure weight in final risk\n",
    "    gamma: 0.20     # Vulnerability weight in final risk\n",
    "\n",
    "thresholds:\n",
    "  # Temperature stress thresholds (°F)\n",
    "  thermal:\n",
    "    heat_low: 85    # Heat stress starts (0 score)\n",
    "    heat_high: 100  # Maximum heat stress (1 score)\n",
    "    cold_low: 10    # Cold stress starts (0 score)\n",
    "    cold_high: 0    # Maximum cold stress (1 score)\n",
    "  \n",
    "  # Wind stress thresholds (mph)\n",
    "  wind:\n",
    "    gust_low: 20    # Wind stress starts (0 score)\n",
    "    gust_high: 50   # Maximum wind stress (1 score)\n",
    "    sustained_threshold: 30  # Sustained wind bonus threshold\n",
    "  \n",
    "  # Precipitation stress thresholds\n",
    "  precip:\n",
    "    rain_heavy: 10  # Heavy rain threshold (mm/h)\n",
    "    snow_heavy: 5   # Heavy snow threshold (cm/h)\n",
    "    ice_threshold: 0  # Any ice = maximum score\n",
    "\"\"\"\n",
    "\n",
    "# Load user configuration\n",
    "config_manager.load_config_from_yaml(user_config_yaml)\n",
    "config_manager.log_config_summary()\n",
    "\n",
    "print(\"✓ User configuration loaded and validated\")"
   ]
  },
  {
   "cell_type": "markdown",
   "metadata": {},
   "source": [
    "### Runtime Mode Selection"
   ]
  },
  {
   "cell_type": "code",
   "execution_count": 4,
   "metadata": {},
   "outputs": [
    {
     "name": "stderr",
     "output_type": "stream",
     "text": [
      "2025-10-10 04:54:21,827 - INFO - Runtime mode set to: demo\n"
     ]
    },
    {
     "name": "stdout",
     "output_type": "stream",
     "text": [
      "🔧 Runtime Mode: DEMO\n",
      "📊 Forecast Horizons: [12, 24, 36, 48] hours\n",
      "🌐 Coordinate System: EPSG:4326\n",
      "🔢 Random Seed: 42\n",
      "📐 Hex Grid Size: 40 km\n",
      "\n",
      "⚠️  DEMO MODE: Using cached/sample data for development\n",
      "   - No live API calls will be made\n",
      "   - Results are for demonstration purposes only\n",
      "\n",
      "✓ Runtime configuration complete\n"
     ]
    }
   ],
   "source": [
    "# Runtime mode configuration\n",
    "# Set to \"demo\" for cached/sample data, \"live\" for real API calls\n",
    "\n",
    "RUN_MODE = \"demo\"  # Change to \"live\" for production use\n",
    "\n",
    "config_manager.set_runtime_mode(RUN_MODE)\n",
    "\n",
    "# Display current configuration\n",
    "current_config = config_manager.get_config()\n",
    "\n",
    "print(f\"🔧 Runtime Mode: {config_manager.get_runtime_mode().upper()}\")\n",
    "print(f\"📊 Forecast Horizons: {current_config['runtime']['horizons_h']} hours\")\n",
    "print(f\"🌐 Coordinate System: {current_config['runtime']['crs']}\")\n",
    "print(f\"🔢 Random Seed: {current_config['runtime']['random_seed']}\")\n",
    "print(f\"📐 Hex Grid Size: {current_config['runtime']['hex_size_km']} km\")\n",
    "\n",
    "if RUN_MODE == \"demo\":\n",
    "    print(\"\\n⚠️  DEMO MODE: Using cached/sample data for development\")\n",
    "    print(\"   - No live API calls will be made\")\n",
    "    print(\"   - Results are for demonstration purposes only\")\n",
    "else:\n",
    "    print(\"\\n🌐 LIVE MODE: Making real API calls\")\n",
    "    print(\"   - Fetching current weather forecasts\")\n",
    "    print(\"   - Results reflect real-time conditions\")\n",
    "\n",
    "print(\"\\n✓ Runtime configuration complete\")"
   ]
  },
  {
   "cell_type": "markdown",
   "metadata": {},
   "source": [
    "### Directory Structure Verification"
   ]
  },
  {
   "cell_type": "code",
   "execution_count": 5,
   "metadata": {},
   "outputs": [
    {
     "name": "stderr",
     "output_type": "stream",
     "text": [
      "2025-10-10 04:54:21,831 - INFO - Directory structure verified and created\n",
      "2025-10-10 04:54:21,832 - INFO - Working directory: /Users/qpedrick/structured/educational/PUI/25-26/FALL25/MISO-hackathon/XTERNproject/quinton-final-kiro\n"
     ]
    },
    {
     "name": "stdout",
     "output_type": "stream",
     "text": [
      "📁 Directory Structure:\n",
      "   ✓ Exists: data/raw/\n",
      "   ✓ Exists: data/processed/\n",
      "   ✓ Exists: output/\n",
      "\n",
      "✓ Directory structure ready\n"
     ]
    }
   ],
   "source": [
    "# Verify and create required directory structure\n",
    "required_dirs = [\n",
    "    'data/raw',\n",
    "    'data/processed', \n",
    "    'output'\n",
    "]\n",
    "\n",
    "print(\"📁 Directory Structure:\")\n",
    "for directory in required_dirs:\n",
    "    if not os.path.exists(directory):\n",
    "        os.makedirs(directory, exist_ok=True)\n",
    "        print(f\"   ✓ Created: {directory}/\")\n",
    "    else:\n",
    "        print(f\"   ✓ Exists: {directory}/\")\n",
    "\n",
    "# Log directory creation\n",
    "logging.info(\"Directory structure verified and created\")\n",
    "logging.info(f\"Working directory: {os.getcwd()}\")\n",
    "\n",
    "print(\"\\n✓ Directory structure ready\")"
   ]
  },
  {
   "cell_type": "markdown",
   "metadata": {},
   "source": [
    "### System Information and Dependencies"
   ]
  },
  {
   "cell_type": "code",
   "execution_count": 6,
   "metadata": {},
   "outputs": [
    {
     "name": "stderr",
     "output_type": "stream",
     "text": [
      "2025-10-10 04:54:21,836 - INFO - System: Darwin 25.0.0\n",
      "2025-10-10 04:54:21,836 - INFO - Python: 3.13.7\n",
      "2025-10-10 04:54:21,837 - INFO - numpy: 2.3.3\n",
      "2025-10-10 04:54:21,837 - INFO - pandas: 2.3.3\n",
      "2025-10-10 04:54:21,837 - INFO - geopandas: 1.1.1\n",
      "2025-10-10 04:54:21,838 - INFO - folium: 0.20.0\n",
      "2025-10-10 04:54:21,838 - INFO - requests: 2.32.5\n"
     ]
    },
    {
     "name": "stdout",
     "output_type": "stream",
     "text": [
      "🖥️  System Information:\n",
      "   Platform: Darwin 25.0.0\n",
      "   Python: 3.13.7\n",
      "   Architecture: arm64\n",
      "\n",
      "📦 Key Dependencies:\n",
      "   numpy: 2.3.3\n",
      "   pandas: 2.3.3\n",
      "   geopandas: 1.1.1\n",
      "   folium: 0.20.0\n",
      "   requests: 2.32.5\n",
      "\n",
      "✓ System verification complete\n",
      "\n",
      "============================================================\n",
      "🚀 MISO Weather-Stress Heatmap MVP Ready\n",
      "   Configuration loaded and validated\n",
      "   Directory structure created\n",
      "   Dependencies verified\n",
      "   Logging system active\n",
      "============================================================\n"
     ]
    }
   ],
   "source": [
    "# System information and dependency verification\n",
    "import platform\n",
    "import subprocess\n",
    "\n",
    "print(\"🖥️  System Information:\")\n",
    "print(f\"   Platform: {platform.system()} {platform.release()}\")\n",
    "print(f\"   Python: {platform.python_version()}\")\n",
    "print(f\"   Architecture: {platform.machine()}\")\n",
    "\n",
    "print(\"\\n📦 Key Dependencies:\")\n",
    "key_packages = {\n",
    "    'numpy': np.__version__,\n",
    "    'pandas': pd.__version__,\n",
    "    'geopandas': gpd.__version__,\n",
    "    'folium': folium.__version__,\n",
    "    'requests': requests.__version__\n",
    "}\n",
    "\n",
    "for package, version in key_packages.items():\n",
    "    print(f\"   {package}: {version}\")\n",
    "\n",
    "# Log system information\n",
    "logging.info(f\"System: {platform.system()} {platform.release()}\")\n",
    "logging.info(f\"Python: {platform.python_version()}\")\n",
    "for package, version in key_packages.items():\n",
    "    logging.info(f\"{package}: {version}\")\n",
    "\n",
    "print(\"\\n✓ System verification complete\")\n",
    "print(\"\\n\" + \"=\"*60)\n",
    "print(\"🚀 MISO Weather-Stress Heatmap MVP Ready\")\n",
    "print(\"   Configuration loaded and validated\")\n",
    "print(\"   Directory structure created\")\n",
    "print(\"   Dependencies verified\")\n",
    "print(\"   Logging system active\")\n",
    "print(\"=\"*60)"
   ]
  }
 ],
 "metadata": {
  "kernelspec": {
   "display_name": ".MISO-venv",
   "language": "python",
   "name": "python3"
  },
  "language_info": {
   "codemirror_mode": {
    "name": "ipython",
    "version": 3
   },
   "file_extension": ".py",
   "mimetype": "text/x-python",
   "name": "python",
   "nbconvert_exporter": "python",
   "pygments_lexer": "ipython3",
   "version": "3.13.7"
  }
 },
 "nbformat": 4,
 "nbformat_minor": 4
}
 ]*60)"
  "=\"int(\
    "pr\n",ssing\")cewnstream prorted for doData expo\"   ✓    "print(,
 ")\n"eady\ functions regationaggr Spatial  ✓print(\"  
    ",\")\n"dateids calcul centrosigned and as ✓ Cell IDsprint(\"  ,
    "\")\n"nd testederated aenrid g Hexagonal g"   ✓"print(\
    ",\")\ndatedvalined and print defioot✓ F  (\" rint
    "p",)\nlete\"k Comporial Framew  MISO Spatnt(\"🗺️"pri
    60)\n",\"*\"=\n\" + \"\t( "prin
    "\n",  )\n",
 ds']}\"mmary['bounds: {grid_su\"   Bount(f    "prin\")\n",
.1f} km²'max']:][2'_area_kmctual'a_summary[ - {grid:.1f}n']_km2']['miactual_areammary['{grid_suge: "   Area ranrint(f\",
    "pkm²\")\n1f} std']:.area_km2']['tual_ac_summary['f} ± {gridn']:.1eam2']['mctual_area_k_summary['agridrea: {Actual a(f\"   int  "pr",
  ")\n\]} kme_km'rget_hex_sizmmary['tasusize: {grid_   Target int(f\"pr,
    ",}\")\n"n_cells']:y['id_summarls: {gral cel   Tot\" "print(f
   \")\n",ary:n📊 Grid Summ\"\\rint(,
    "pn")\ummary(t_grid_sgenerator.gerid_ngine.g = spatial_eary_summ "grid
   ummary\n", srid# Display g",
    "
    "\nn",\{e}\")d: ort faile"✗ Exprint(f\   p   " e:\n",
 n as eptio Excxcept"en",
    ")\eojson\id.g_hex_grso - mirint(\"   p "   )\n",
   geojson\"_footprint.  - miso(\"    print",
    " \")\nd//processeto dataa exported patial datint(\"✓ S   pr,
    " data()\n"atial_ort_spgine.exppatial_en    "    s",
n   "try:\ "\n",
 )\n",
   \".tial data..rting spapo"💾 Exprint(\n",
    "ure use\futata for ial dt spatorExp  "#  [
  ": "sources": [],
  ut   "outpta": {},
   "metadaull,
n_count": nutio"exec",
   ": "codel_typeel {
   "c},
 ]
  "
   ing\")eedre procts befoesultest review "   R print(\   "   ",
 \")\nled_tests}ai FAILED: {fe tests\n⚠️  Somf\"\t(in    "    prlt]\n",
if not resuitems() lts.est_resu t inme, result[name for naled_tests = "    fai,
    else:\n"
    "\n",")\integrationather data r we ready fowork istial frame\"   Spaprint(
    "    \")\n",SSED!ts PAg tesprocessinll spatial "\\n🎉 A  print(\  ,
    "passed:\n" "if all_n",
   s())\s.valuet_result(tesssed = all   "all_pa
 ",ed\ns pass all test# Check if",
    "\n",
    "y())\nummar_test_sests.get_tatialrint(sp,
    "psummary\n"splay test 
    "# Di  "\n",
  sts()\n",run_all_te_tests.= spatialest_results    "t\n",
 al_engine)spatigTests(ialProcessinpat = Sial_tests  "spat,
    "\n"n",
  \...\")g testssinal procesng spati"🧪 Runnit(\
    "prinsts\n",tial teensive spaomprehun c"# R": [
     "source
  ],tputs": [{},
   "ouata": ad"metnull,
   ": ution_countxec"ee",
   ": "codcell_type   ",
  {

  } ]e"
      rais
    "",")\ned: {e}\n failalizatioork initi framewatial"\\n✗ Spprint(f\  ,
    "  e:\n"eption as cept Exc
    "ex\n","    ",
    km²\")\nmean():.1f} '].rea_km2_grid['a{hexea: ll arage cef\"   Avernt(   "    pri\n",
 ")x_grid):,}\s: {len(helld ce Hex grit(f\"    prin",
    "  n\")\):,.0f} km²area_km2(manager.get_.footprint_neatial_engispt: {ISO footprin   M"   print(f\",
    " \n\")fullyuccessialized sework initpatial fram\\n✓ S print(\"
    "      \n",",
    " work()\npatial_frameitialize_se.inpatial_enginx_grid = sheprint, so_foot mi   " ,
   \n"
    "try:id\n",and grootprint e f# Initializ"    "\n",
   )\n",
 de()}\"me_mot_runti.geeranagg_m {confiode: Runtime mrint(f\"      "p")\n",
']}\me']['crsig['runtirrent_conf system: {cuoordinate\"   Cnt(f  "prin",
  )\m\"km']} k['hex_size_ntime']t_config['ruze: {curren si Target hex"  print(f\",
    "")\n..\l framework. spatiaalizing MISO️  Initi(\"🗺  "print,
   "\n"",
   fig)\nconne(current_ngiocessingESpatialPrine = eng "spatial_",
   \net_config()_manager.g config_config =rrent,
    "cuine\n"cessing engspatial pro Initialize 
    "#[ce": sour
   "ts": [],"outpu{},
   ": adata
   "met: null,tion_count"   "execu"code",
_type": 
   "cell  },
  {"
   ]
ameworkal Frst Spatind Teize anitial  "### I": [
  urce  "so{},
 tadata":   "medown",
 : "mark"cell_type"
  {
   
  },]\")"
   s defineds clasingTestProcessial\"✓ Spatrint("p\n",
    
    "",mmary\neturn su       r"  ",
   n \      ",
    " \\n\"\ne}}: {test_namus"{stat+= f\y arumm        s      "  \"\n",
\"✗ FAILlse result eSS\" if  PA\"✓tus = ta  s        "      ",
items():\nt_results.n self.tessult ie, rer test_nam"        fo\n",
      "          "\n",
\l}\\n\\n/{tota{passed}ts passed:  f\"Tesry +=  summa     ,
    " "\"\n==\\n Summary =estcessing Tpatial Pro"\\n=== S= f\y summar   "      
   ",\n "        ",
   s)\nt_result(self.tes total = len       "    ))\n",
ues(sults.vallf.test_resum(se  passed =    ,
    "   n""        \   ",
 t\"\nun yetests rturn \"No     re"        ,
    \n"st_results:.telf  if not se       " 
  ","\"\"\nsummary\test ormatted "\"Get f    \"\    ",
    "> str:\nelf) -ry(smma get_test_su    def   " \n",
    "   ",
 True\nturn         re  "  \n",
        "   n",
 lse\turn Fare        
    "    _crs:\n", expectedd.crs) !=gri str(   if "     \n",
    "        ,
   lse\n"  return Fa       
    "   s:\n",d_crpecte!= exprint.crs)  str(foot if     "  n",
    ted\s expecmatcheS   # Check CR     "   ",
      \n
    "    ",s\nngine.crpatial_eself.s_crs = edxpect e "         ",
     \n "    n",
   )\t_grid(ngine.ge.spatial_e= selfid        gr    " )\n",
footprint(t_ngine.ge.spatial_eint = self    footpr    "    \"\n",
\"tency\"em consisdinate systt coor"\"Tes \"\        "   \n",
f) -> bool:em(selinate_systt_coordef tes    "    dn",
 \   " \n",
   Falseeturn          r
    "   \n",ception:cept Ex        ex"   
     \n",       "    ",
 \nreturn True             "   ",
     \n"       n",
    \lse Farn   retu            "   :\n",
  ().all().isnaean']alue_m'vlt[if resu         "    n",
   easonable\values are rk  # Chec          ",
    " \n          ,
    "  \n"eturn False       r     
    "    lumns:\n",lt.conot in resuue_mean' ns or 'valresult.column  not ill_id'  if 'ce"          n",
          \"      n",
    n False\       retur"         ",
    ne):\taFramt, pd.Daulinstance(resf not is         i "   
   re\n",t structu Check resul     #  "     \n",
             "      )\n",
       "       
   'mean'\n",'value', points,   test_           ,
    "   (\n"idate_to_grtial_aggreggine.spaatial_en= self.spt        resul   "     
 y:\n",  tr     ",
    " tion\ngast aggre # Te"          \n",
      "    n",
   =grid.crs)\      }, crs   "  n",
 ]\, n_points))ny, maxyrm(miom.unifo   np.rand                     "       n",
 \ n_points),x, maxx,(minuniformrandom.zip(np.                    "       
 y in \n",, y) for x, nt(xry': [Poiet   'geom      
    "   s),\n",n_point00, rm(0, 1ndom.unifo: np.ra    'value'          "  ",
Frame({\noData.Gets = gpd test_poin   "       t\n",
  teseproducible42)  # Random.seed(        np.r",
    "       \n    " 00\n",
_points = 1       n   " ",
 ounds\nrid.total_bx, maxy = giny, max   minx, m   "     nds\n",
 in grid bou withntsndom poinerate ra # Ge   "       
     \n",        "id()\n",
e.get_grenginl_ self.spatiaid =    gr
    "     data\n",pointst # Create te      "    n",
  \"\\"\"tionalityn funcegatio aggralpatiTest s\"\"\" "        ",
    -> bool:\nation(self)ggregtial_aest_spaf t de"       \n",
  
    "   True\n",return       " n",
            \   ",
 n"turn False\re        "    
    ()):\n",llaxy).an(miny, mtwee'].beoid_lattr  grid['cen         "     \n",
    all() and minx, maxx).ween(].betlon'd['centroid_ if not (gri"          ",
    \n"     \n",
    int_bounds footpry =xx, maxiny, ma minx, m  "       
  s\n",ndou).total_bint(t_footprengine.gelf.spatial__bounds = seootprint       f",
    " nds\notprint boufoithin ids are wheck centro    # C
    "    ",   \n"     
    \n",n False  retur         ",
    " > 1e-6:\n() f.maxif lat_dif"        ,
    ids.y)\n"anual_centroat'] - mntroid_lid['ces(grp.ab_diff = n     lat"   n",
    s match\ valuek latitude     # Chec"    
       \n", "       alse\n",
   return F     "      \n",
  erance tol small:  # Very 1e-6iff.max() >_d if lon"       n",
    ids.x)\roual_cent- man_lon'] oidentrrid['c = np.abs(gdiff  lon_"          n",
lues match\longitude va # Check        
    "    \n",    "    ",
ntroid\n.geometry.ceids = gridro manual_cent   "     e\n",
    compary andanuall centroids m # Calculate"            \n",
"         ",
  t_grid()\ngine.gespatial_en= self.    grid   "    
  \"\n","\"ate\ccur are alationscalcuid  centro"\"Test     \"\   "   \n",
 ol:) -> bon(selflatiocucalcentroid_f test_ "    den",
   "    \    
n",ed().any()\duplicatd'].id['cell_in not gr      retur  "  \n",
  ll IDs ceo duplicateCheck n #   "     
    \n", "        ",
   rid()\nine.get_gatial_eng= self.spid    gr"     ,
    "\"\n"ique\"\are un IDs est all cell"\"T  \"\"      \n",
    ol:) -> boselfiqueness(l_id_uncel def test_   "   
    \n",,
    " 2\n" 1.age_ratio <cover <  0.7return "        
   n",\fects) eflippingdue to c-120% nable (70easod be rge shoul   # Covera"       \n",
         "     \n",
_areafootprintotal_area / _trid= g_ratio rage cove    "     \n",
  ()ea_km2'].suma = grid['arl_aretad_to  gri "      n",
   km2()\area_er.get_nt_manage.footpril_enginatiaa = self.spootprint_are"        f,
    atio\n"e rveragCalculate co #           " ",
     \n  " ,
    "t_grid()\ngene.engiatial_f.sp grid = sel    "       ",
tprint()\nine.get_foongspatial_eelf. = stprint   foo"     \n",
    "\"\quately\"int adefootprid covers Test gr\"\"\"      "    ,
  :\n") -> boolerage(selfgrid_covt_ tes    def",
    ""    \n
    True\n",return    "     
          \n","  ",
    urn False\n   ret        
    "  to 6\n",oseould be cl8):  # Shtices <  < avg_ver  if not (5 "      ,
   \n"nts)(vertex_couean= np.mertices  avg_v        "]\n",
   eometryn grid.geom i1 for gs) - or.coord.exteri(geoms = [lenertex_count     v   "   ,
 ation)\n" some variowing forll (a ~6 verticess haveon hexageck    # Ch"    ,
    \n" "        
   alse\n",  return F        "     
 ",00):\nells < 100 n_c <f not (50      i"  
    grid)\n",= len(_cells     n    "    ",
f cells\nle number oeasonabheck r # C      ",
    "  \n     "    se\n",
  n Falretur            
    "",all():\n).== 'Polygon'e ry.geom_typgeometrid. not (g   if     "    ns\n",
l are polygoeck al # Ch     
    "  ",    \n "      ",
 se\n Fal      return"      ",
    d.all():\nis_valiy.eometr grid.g if not     
    "  lid\n",s are vaometrie ge all# Check         "     \n",
       "
   rid()\n",ine.get_gatial_eng self.sp   grid =
    "     "\n",\"\"\id hexagonsduces val proration grid genest"\"Te"\        \"",
    l:\n booon(self) ->d_generatidef test_gri    ",
    "   "    \n\n",
  < 5e6_km26 < area 1e    return  "    \n",
  llion km²-3 miroughly 1.5uld be int shoSO footpr   # MI  ,
    "    \n"   
    "    _km2()\n",t_areanager.getprint_mal_engine.foo self.spatia  area_km2 =    "      \"\n",
ble\"\"reasonaa is tprint are\"Test foo\"\" "        
   \n",ool:lf) -> ba(set_aret_footprin   def tes",
    " "    \n
    ue\n",urn Tr   ret   "     \n",
        ",
    " e\nn Fals   retur "           n",
  55):\ < 30 < maxyxx < -75 andnd -100 < many < 50 aand 25 < mix < -80  < min not (-110 if   "    
    unds\n",total_bo= footprint.x, maxy miny, max      minx, ",
    "  merica)\nhly North Able (rougsonae reak bounds ar  # Chec     
    " \n","        
    False\n",eturn          r,
    "   es):\n"_typubset(valides).issm_typet(geof not s"        i",
    lygon'}\n 'MultiPo',ygones = {'Pol   valid_typ    "     ,
"()\npe.uniqueeom_ty.g.geometryfootprint=  geom_types      "  ",
    lygon\npoltiolygon/mua ps ck it'      # Che    "  ,
  \n""      ",
    \nn False retur        ,
    "   :\n"id.all()_valometry.is.geintf not footpr  i "        ty\n",
 alidik geometry v    # Chec    "  ",
       \n  "   ()\n",
  intprotgine.get_fof.spatial_ennt = selootpri       f
    " "\"\n","\ validity\nt geometryt footpri"\"\"Tes"        \",
    \nf) -> bool:ry(selnt_geometotprifoest_"    def t
        \n", "\n",
   resultst_urn self.tes    ret "        \n",
  "     
    \")\n",} passedald}/{totasses: {pTest Resultfo(f\"ing.in    logg      "  \n",
esults)f.test_r = len(sel   total    ,
    " )\n"ts.values()t_resul.tessum(self  passed = "      \n",
    ummary    # S   " 
    \n","        ,
    }\")\n"{e_name} - {testRROR: \"✗ Error(f  logging.e         "       \n",
   False =test_name]results[ self.test_               "   n",
 s e:\xception a   except E"         ",
    \")\nest_name}status}: {tfo(f\"{in    logging.            ",
    "\nL\"FAIelse \"✗ lt esu\" if r\"✓ PASS= status                 "   
 \n",sult] = remeest_na_results[ttest   self.             n",
    "st_func()\lt = teesu r               "   ",
   try:\n          "
    ",s:\nnc in testme, test_fur test_na       fo    " \n",
       ",
    "   ]\n     ,
    " em)\n"ystate_s_coordin', self.testtemordinate_sys_co      ('test   
    "   ",ation),\nl_aggregtest_spatian', self.gatiotial_aggre_spa ('test          ",
    " tion),\nd_calculacentroilf.test_tion', seoid_calculat_centr      ('tes"      ",
    queness),\nniell_id_ust_c.te, selfueness'll_id_uniqest_ce't      (   "      ",
 \nverage),d_co_griste', self.teoveragtest_grid_c     ('     "     
 ,\n"ation),t_grid_genertesion', self.neratest_grid_ge      ('t   
    "   n",t_area),\prinootlf.test_frea', set_aest_footprin   ('t      ,
    "   ,\n"t_geometry)rin.test_footplfseetry', print_geom_foot  ('test"          ",
    \nsts = ["        te\n",
    "        ",
    s...\")\nestg tocessinatial prg sp"Runninng.info(\       loggi",
    " "\n"\"\ tests\singprocesspatial Run all "\"\"    \
    "    ool]:\n",Dict[str, b-> ests(self) f run_all_t de   "     \n",
     "  n",
 = {}\est_results self.t      "    ",
 _engine\nalspati = ial_enginef.spat   sel    
    " ):\n",essingEngineialProcatSpial_engine: patf, s__init__(sel"    def \n",
     "    ",
   \"\"\ndation\"valiverage couracy and ccatial asts for spt te"\"Uni"    \"\",
    ts:\nssingTesatialProce"class Sp",
    nssing\cepatial Pros for Sit Test
    "# Une": ["sourc
   s": [],
   "output": {},"metadata  null,
 : nt"oun_cexecutioe",
   "": "codpe"cell_ty
  {
   ,
  }   ])"
defined\"s ne clasEngingProcessipatial\"✓ Sint(
    "pr\n",
    "\")\n",{grid_path}ed to: id export\"Grging.info(f     log "       ,
   \n"\")GeoJSONr=\"drivegrid_path, d.to_file(elf.hex_gri          s,
    "  \")\n"rid.geojsono_hex_g \"mist_dir,tpuin(outh.joos.pagrid_path =              " e:\n",
  on is not Nex_gridf self.h  i   "        \n",
       "    ")\n",
ath}\otprint_ped to: {foint exportpr"Footfo(f\ng.in     loggi      "  )\n",
   \""GeoJSONr=\ driverint_path,le(footpto_fio_footprint.    self.mis     "   \n",
    son\")eojt.gootprin"miso_f_dir, \oin(output.js.path oth =rint_patp    foo    "    n",
    None:\not otprint is miso_foself.f       i  "  
  \"\n",es\"\"grid to filprint and oot\"Export f\"        \"    "\n",
:\") -> None/processed"data: str = \ut_dira(self, outp_dattialpaf export_s de    "   \n",
"    ,
    "opy()\nhex_grid.clf.urn se     ret  " ",
    ed\")\nlizt initia\"Grid noalueError(e V     rais  "       :\n",
   Nonegrid isex_ self.hif  "        "\n",
  "\"\rame\d GeoDataFgonal griGet hexa\"\"\""        ",
    \ntaFrame:eoDaf) -> gpd.G(selid def get_gr
    "   "    \n", 
   ",)\nint.copy(o_footpr.misurn self   ret"     ",
    ")\nzed\linot initiaint tprror(\"Fooise ValueEr  ra        
    "  \n",nt is None:ri_footpself.miso"        if n",
    \"\"aFrame\"\rint GeoDattpt MISO fooGe\"\" \"   "       
 :\n",rameDataFd.Geoself) -> gpint(_footpr    def get",
    "\n "    n",
   raise\           " ,
    \")\n" failed: {e} aggregationial\"Spat(ferrorgging.lo             "  
 \n",n as e:eptiocept Exc    ex  "  \n",
                " 
   df\n",t_ resulrn        retu
    "    n",        \  "    ",
  hod}']\ngg_met_column}_{ad', f'{valuecell_i = ['t_df.columns resul"           ",
    x()\nt_indesult.rese result_df =   re         "    
mn\n",oluas cith cell_id e waFramDatnvert to  Co      #"      ",
        \n     ,
    "   n")\}\"hodd: {agg_metmethoregation nknown aggrror(f\"Use ValueE       rai"         ",
    :\nse       el    "     
\n",nt()umn].couvalue_colcell_id')[ed.groupby(' joinesult =           r  ,
    "   ":\n"ount\\"c od ==meth agg_ elif          "     ",
min()\nn].olum_caluell_id')[vupby('ce.groinedsult = jo     re        "       \n",
in\":d == \"mf agg_metho    eli"        ",
    ()\nmn].maxvalue_coluid')[pby('cell_ed.grouult = join    res           
    " ","max\":\n\ethod == if agg_m        el
    "    ",\num()lumn].sue_col_id')[valroupby('celined.g result = jo            "    ",
   um\":\n \"sgg_method == elif a          ",
    " )\nolumn].mean(id')[value_ccell_d.groupby('lt = joine resu            "   \n",
    mean\":od == \"f agg_meth  i       "     n",
  cell_id\te by # Aggrega             "   n",
     \   "       s')\n",
 ct='interseicatenner', pred'igrid, how=elf.hex_ sn(data,sjoied = gpd.oin       j    "     ,
"join\natial # Sp            "       \n",
         "    crs)\n",
lf.hex_grid..to_crs(sea = datadat               ",
    " id.crs:\n self.hex_gr.crs !=ata       if d   "  
    S\n", CRnsure same    # E         "\n",
           try:  "  \n",
    "      ")\n",
  \() first.ameworkal_frialize_spatill initzed. Caali not initi"GridalueError(\ raise V        ,
    "   \n":Nones  i_gridelf.hex     if s"     ",
  "\"\n\"\       "    ",
 \nll_idces by ueregated valgge with aDataFram            ",
    "Returns:\n"        
        \n",     "     ",
  \n 'count')x', 'min','ma',  'sumod ('mean',ation methggreggg_method: A    a        " e\n",
   atto aggreglumn name lumn: Co    value_co "        ",
   \ngate aggreh data totaFrame wit data: GeoDa  "         ,
    Args:\n""          
  n",      \  "  n",
  cells\grid on data to oint/polygte pAggrega\"    \"\"    "    ",
nDataFrame:\d.-> p\")  \"meanr =hod: st  agg_met                           "    ",
    tr,\n sn:olumalue_c     v                          "      ",
, \nramepd.GeoDataFta: gda, id(selfte_to_gregaspatial_aggr  "    def   ",
  \n  "  ",
  f}%\")\na * 100):.1print_areotn'] / foa_km2']['meal_arey['actuagrid_summar] * lls'['n_cery{(grid_summaoverage: \"Grid cfogging.info("        l  ",
  km²\")\ntd']:.1f} 2']['sa_km_arealry['actusummarid_{g]:.1f} ± km2']['mean'ual_area_'actummary[ {grid_sa:ex are"Actual hing.info(f\logg"        
    ")\n",m\ kkm']}_hex_size_gety['tar_summarridsize: {g hex Target".info(f\   logging    ,
    " ",}\")\ncells']:y['n_d_summar{grienerated: rid cells g\"G(fgging.info"        lo",
    ")\n,.0f} km²\nt_area:riarea: {footpO footprint MISf\"ng.info(oggi"        l\n",
    ===\")ry work Summaame Spatial Frnfo(\"===logging.i           "",
     \n    "    
",y()\ngrid_summartor.get__genera self.gridsummary =    grid_
    "    \n",rea_km2()get_aanager._mf.footprintea = selootprint_ar    f  "      ",
\"\"\nework\"frampatial  of sLog summary"\"\"   \   
    "  \n",one:f) -> Nmmary(selial_sulog_spat"    def _
    \n",   "     aise\n",
 r            "   n",
\")\: {e}ailedion falizatrk initil framewo\"Spatia.error(fogging      l    "      \n",
tion as e:Excep   except     "     ,
    \n"    "      ",
  \nex_gridrint, self.h.miso_footp return self           "  
  ,   \n"      "     \n",
  ete\")mplalization coork initi framew Spatial.info(\"✓    logging     
    "   \n",           "  
   )\n",al_summary(ti._log_spa self         ,
    "  \n"Log summary         #     " \n",
                "  ",
)\n failed\"ationrid valid\"G ValueError(se      rai"              :\n",
grid()or.validate_generatd_ri self.gf not     i    ,
    "   "date grid\n   # Vali    "     ,
    \n"      "      n",
    )\              "km\n",
  ize_self.hex_s         "        \n",
   rint, _footpelf.miso           s  "     \n",
  hex_grid(or.generate_id_generatd = self.grgriself.hex_            ",
    ".\")\nacing)..spe_km} km iz_s({self.hexrid onal gexagng hratiGene\"nfo(flogging.i         "   n",
    \gridnal hexagoenerate tep 2: G      # S    "  ,
    \n"        "        ,
\")\n" failedonidatit val\"FootprineError( raise Valu               "  ):\n",
  _footprint(ateger.validtprint_mana.foof not self       i   "  \n",
    ntprilidate foot       # Va"     
    ", \n          
    " nt()\n",footpriate_miso_ager.creanootprint_melf.ft = s_footprin   self.miso     "     ",
   ...\")\nO footprintreating MIS.info(\"C     logging   "       ,
 \n"footprintISO te Mp 1: Crea       # Ste
    "     \n",              "",
  .\")\nwork..ial frameizing spat(\"Initialinfo    logging.          "
  ",  try:\n "      
   \n",""\    \"\"    \n",
    , grid_gdf)tprint_gdff (foo    Tuple o        
    "",Returns:\n  "        ,
  \n"        "  
  ",t + grid\ninfootprework: amal frpaticomplete sInitialize "\"   \"\"     
    ",e]:\nDataFrameod.GtaFrame, gpDaGeouple[gpd. T ->ework(self)patial_framze_saliiti   def in"         \n",
"",
    = None\n.hex_grid       self",
    "  None\n= print iso_foot    self.m   "    s\n",
 for resultage Stor      # "  
    ", \n "         \n",
 =self.crs)enerator(crsexGridGerator = Hlf.grid_gen     se"   \n",
    crs)nt(crs=self.FootpriSOmanager = MItprint_self.foo  "        ,
  "nents\n compoalizeti    # Ini    "    
",  \n "      
   ']\n",ex_size_kme']['huntimnfig['rkm = cof.hex_size_sel    "    ",
    s']\nime']['crig['runtcrs = conflf."        se",
    \nconfigig = self.conf"        n",
    t):\onfig: Dic(self, ct__inief __    d   "\n",
      "  \n",
 \"\"ns\"ioating operocessspatial prterface for \"Main in\"   \"",
    " \ne:singEnginProces Spatialss   "cla",
 ce\nfater - Main InEngineessing atial Proc  "# Sp": [
   "source: [],
  uts" "outpa": {},
  "metadatll,
   ": nutution_coun  "execode",
 e": "c"cell_typ{
   },
  "
   ]
  \")efined dlassator cHexGridGener✓ int(\"    "pr"\n",
\n",
      }  
    "    )\n",rid.crself.gs': str(s         'cr  "   
  \n",tal_bounds),elf.grid.to: tuple(sds'      'boun"      
       },\n",          "   ax()\n",
a_km2'].mrid['are.gelf 'max': s                  ",
 ,\n"km2'].min()rid['area_n': self.g'mi        "         n",
   '].std(),\['area_km2ridstd': self.g '                 " ),\n",
 ean(rea_km2'].mrid['aean': self.g         'm "       ,
   {\n"_area_km2': ual 'act             "
  km,\n",hex_size_: self.ze_km'hex_si    'target_  "        ),\n",
  ridelf.gls': len(s    'n_cel"           ",
  return {\n      ",
    " \n"        ",
    \n   return {}"         n",
    s None:\f.grid i    if sel   "    
 "\n","\"\grid\or the tistics fummary stat s\"Ge\"\" "        :\n",
   ctlf) -> Disey(rid_summar def get_g
    "   ",  \n "     \n",
rn True retu"         
       \n",
    "   \")\n",}v:.2f= {area_cd cells: CV griation in  area vari\"High(fningng.warloggi            "  n",
  50%\n > of variatioefficient 5:  # Coa_cv > 0.  if are  "      
  an()\n",].mem2'grid['area_ktd() / self.'].sa_km2lf.grid['arev = se   area_c  "     ",
  ency\nstea consi  # Check ar "      
       \n",    ",
    "\neturn False    r       "     ")\n",
_cells}\: {ngrid cellsnumber of cted expe\"Un(fningg.war      loggin"      
    \n", 10000):_cells < nnot (50 <        if 
    "rid)\n",len(self.gcells =        n_",
    " )\nusands tholowto be hundreds hould  of cells (sberumle neasonabk r# Chec "        \n",
         "  
    n",False\return             n",
    "\\")ectedcell IDs detDuplicate ng(\"gging.warni lo         
    "  \n",ny():ted().aca_id'].dupli'celllf.grid[  if se   
    "   n", cell IDs\icater dupl  # Check fo   "      n",
        \",
    " e\nreturn Fals               "\n",
 \")gridted in tecderies ometnvalid ge(\"Ig.warning    loggin        "    l():\n",
_valid.alry.is.geometid.gr not self       if,
    " \n"setriegeomr valid Check fo"        # 
    ",      \n  "  
  \n",lse   return Fa       "      ",
:\nis Nonerid .gif self          " ",
 \"\"\nerties\"y and propgeometre grid "Validat\"\"   \   ,
    "  bool:\n"id(self) -> lidate_gr def va
    "   \n",       " ",
id_gdf\nturn gr      re,
    "        \n"  "   ,
 )\n"ruendex(drop=Treset_if. = grid_gdd_gdf        gri
    "\n",rameataFlean De csurto en index  # Reset  
    "     , \n"   "       )\n",
 soformat(ime.now().iatetat'] = dted__gdf['crea    grid       " ",
mestamp\n creation ti# Add   "         ",
        \nn",
    ".y\oidst'] = centroid_lantrid_gdf['ce       gr " n",
   troids.x\cen= oid_lon'] df['centr_g        grid   "\n",
 entroidmetry.ceo.g= grid_gdfs idro cent    "     ",
  ds\ncentroi# Calculate   "        ",
          \n "  
 ",]\ngdf))en(grid_ange(lfor i in r" i:04d}\f\"hex_{ell_id'] = [_gdf['c     grid    
    "   ",s:\nmndf.coluot in grid_gd' n  if 'cell_i"        n",
  cell IDs\ue uniqe # Ensur         "   \n",
"\"\"\atatadther me, and otroidsl IDs, cen\"Add cel   \"\"  "     \n",
  :eoDataFramee) -> gpd.GtaFramd.GeoDad_gdf: gp, gritadata(self_add_cell_me  def    "  n",
     \",
    "rds)\nlygon(cooturn Pore    
    "    ds))\n",ds, y_coorx_coorzip(s = list(      coord "  n",
         \    "  ,
angles)\n"n(s * np.si_y + radiunteroords = ce        y_cn",
    "es)\glos(anp.cdius * n_x + ras = center    x_coord  "    
  ose\n",tices + cler v 7)  # 6 np.pi,(0, 2 *.linspaceangles = np"        
    ","\"\n"\oint\at given ptered cengon xagon polyeate he\"\"Cr       \"" n",
    n:\ Polygos: float) ->      radiu           "         \n",
  y: float,oat, center_: flf, center_x_hexagon(seldef _create
    "      \n","  
    ells\n",urn grid_c"        ret
     \n",  "       \n",
   row += 1    "       ",
    \n_spacing+= rowy               "  \n",
        "    \n",
    _spacing   x += col          
    "   \n",ll_id += 1       ce       "     ,
   \n"            "     ",
      })\n          " ,
    n"on\ygpol hex_ 'geometry':                   ",
    "ing),\npac col_sset) / - x_offnt((x - minx: i       'col'            "   \n",
  w,': ro     'row              "    ",
 \",\n4d}d:0_i"hex_{cell_id': f\'cell                  ,
    "  ppend({\n"grid_cells.a            
    "     \n",                "   2)\n",
_size_deg / , hexagon(x, yte_hexrea self._cgon = hex_poly            "     y)\n",
   (x, d atentereon cage hex# Creat                "n",
    x:\e x < max       whil    
    "      \n",      ",
    " offset\nx + x_ x = min           ,
    "se 0\n" == 1 el row % 2ifing / 2) (col_spact =   x_offse         "   \n",
  ellationnal tessgoow for hexa other reveryfset         # Of"     ",
    maxy:\nhile y < "        w \n",
           "   ",
 0\nrow =      ",
    "  y = miny\n     "   ",
    \nnerate grid      # Ge    "\n",
        "    
  ",_id = 0\ncell         "  ,
 \n"cells = []  grid_    "  
      \n","      ,
    idth\n"_w hexacing =_sp    col
    "    ,"tion\nr tessellaerlap fo # Ovht * 0.75 x_heig= heng   row_spaci"      
    ng\n",lumn spaci Row and co       #",
    " n      \
    "  ) / 2\n",p.sqrt(3ize_deg * n_st = hexeighex_h h"           n",
eg\ hex_size_d_width =      hex   "  ,
 ius\n") * rad sqrt(3 height = * radius, width = 2gon:ar hexaul reg    # For "    \n",
   arametersometry pgexagon # He        "  \n",
     "     n",
    "\g\"\"\ular spacinegg rd usin grile hexagonalte simp\"\"Crea      \""     t]:\n",
 > List[Dic float) -g:size_dex_       he                "        \n",
     oat,at, maxy: flaxx: flo           m              "      \n",
    ,  floaty:t, min, minx: floample(selfd_sie_hex_gricreat"    def _      \n",
    "  \n",
se rai         ,
    "  n" {e}\")\x grid:heng generatir rro"Eg.error(f\     loggin       "    \n",
tion as e:t Excep      excep"      ,
n"      \     ,
    " ped\n"d_clip gri  return     "     
        \n",          " ",
 ")\nf} km²\x():.1rea_km2'].mad['agrid_clippe():.1f} - {2'].minea_km_clipped['are: {gridea rangl hex ar\"Actuao(fng.infgi    log       ",
    " km\")\n_km} x_size: {hehex size"Target \(ffoinging.      log"      \n",
    ls\") celd)} hexpen(grid_cliperated {lefo(f\"Genogging.in      l"      \n",
                  "  ped\n",
= grid_clip.grid   self          ",
    "         \n
    "   \n",6rea / 1emetry.atm.geo= grid_uea_km2'] clipped['arrid_           g   " )\n",
 :3857'rs('EPSG.to_cippedgrid_cl= d_utm        gri "     \n",
    hex areasual act Calculate   #          "  \n",
          
    "   n",clipped)\d_ata(griell_metadlf._add_ced = seipprid_cl         g
    "   n",s\roid and cent IDs cell       # Add    " 
      \n","           
   \n",print)otd_gdf, fogri gpd.clip(lipped =d_cgri   "         ",
    \nootprinto f # Clip t          "    ,
   \n"      
    "    )\n",      "       ",
   s\nelf.cr    crs=s         "      \n",
 s,grid_cell          "          
ame(\n",pd.GeoDataFrdf = g_ggrid          ",
    "  \neoDataFrame Create G    #         "",
           \n   "    
 ",deg)\nsize_ maxy, hex_x,axx, miny, m_simple(minridreate_hex_g = self._c grid_cells          "    es\n",
 rized libraspecialir heotr e H3 ous, could duction   # For pro           " h\n",
 oacsimple apprg a al grid usinate hexagon     # Gener         "",
     \n         ,
    "n"km / 111.0\_size_hex_size_deg = ex h           "   \n",
  111 km ≈itudegree lat# 1 de          ",
    "  imate)\nes (approxin degresize  hex # Calculate          "          \n",
  "        n",
  \tal_boundsprint.tomaxy = foot, maxx, x, miny  min             "n",
 bounds\tprint   # Get foo      "        
    \n",  "          ",
km\ne_ hex_sizex_size_km =     self.h   "       ",
 :\n   try    "     \"\n",
    \"\"  ,
    "  cells\n"l grid agonath hexrame wiataF       GeoD  ,
    "   \n"   Returns:       "    \n",
     "      s\n",
    kilometerze inx siximate herosize_km: App        hex_      "on\n",
  ary polygth bounde wieoDataFramtprint: G      foo  "      \n",
  gs:      Ar  n",
    ""        \",
    \nfootprintlipped to id chexagonal grte "\"Genera  \"\  "      ",
  aFrame:\noDat -> gpd.Get = 40)ize_km: floa      hex_s         "          
    , \n",taFramepd.GeoDa gnt: footpririd(self,_ge_hexef generat    d   "n",
   \   "      ",
 = None\nize_km _s  self.hex    "      one\n",
f.grid = N        seln",
    " crs\crs =    self.  "    ",
  ):\n"6\PSG:432= \"E, crs: str t__(selfni__i"    def n",
     "    \",
   \"\"\nlysis\"patial ana grid for sisysanalgonal  hexaiforms un"Generate \"\"\   "   :\n",
 Generators HexGrid   "clas,
 or\n"at Grid Gener Hexagonal
    "#ce": [
   "souruts": [],
   "outpata": {},etadl,
   "mcount": nulcution_  "exe
 code",_type": "
   "cell,
  {   ]
  }\")"
inednt class deftpri✓ MISOFooint(\"   "pr"\n",
 ",
    \ne 0.0a_km2 elsf self.are ilf.area_km2n se     retur"   ,
    "\n"\"\"\in km² area et footprint"\"G\"\     
    "   :\n", -> floatlf)area_km2(seef get_"    d     \n",
 "   )\n",
   l_bounds.totaotprintself.fo tuple(   return    "     
")\n",ated yet\t not creotprinError(\"Foe Value      rais        " 
 None:\n",tprint is foolf.       if se"    n",
 \"\\"\"x, maxy)iny, max, mx (minxg bot boundinfootprinGet \"\"\"     "   \n",
    float]:, float, at, float Tuple[flo(self) ->et_boundsdef g    ",
    "    \n",
    "urn True\n       ret" 
    \n",   "        e\n",
 return Fals          ,
    "  \n"\")crs}lf.cted {secrs} != expef.footprint. CRS {sel"Footprinting(f\ing.warn    logg           "s:\n",
  self.cr.crs !=.footprint if self           "S\n",
eck CR    # Ch    "     \n",
       " n",
   e\eturn Fals   r       "     ",
 ble\")\nreasonakm² seems unf} ea_km2:.0.ara {selfprint aref\"Footg.warning(    loggin           "\n",
 m2 < 5e6): self.area_kot (1e6 <if n  "        ,
  \n"m²) k~2.4M is le (MISOonabreass rea i# Check a"            \n",
"        \n",
    rn False    retu"        n",
    ")\footprint\ in tectedderies  geomet(\"Invalidg.warningin   logg        "  \n",
   l():s_valid.altry.it.geomeinlf.footpr   if not se   "     n",
 ity\ry validck geomet Che"        #",
         \n"          e\n",
 lseturn Fa          r   "  ",
 :\nt is Nonelf.footprinif se      "     
 "\n",s\"\"\nd propertiemetry atprint geolidate fooVa\""\""        \    ool:\n",
 -> btprint(self)ate_foo   def valid
    " ", "    \n
   ()\n",ootprinteate_demo_f self._cr      return",
    "  t\")\nprino footem using dted,en not implemationotprint cre(\"Live foningng.wargi"        log
        \n",   
    " rning\n",nt with a waotprio foto dem fall back or now,     # F"   n",
    s\ceher sourotor from Census  data rye boundaual stattch acthis would fe        # T,
    ""\"\n\")\"odee mfor livta (dary da bounual statent from actte footpri\"Crea"   \"\       "n",
  rame:\gpd.GeoDataFool) ->  bimplified:f, use_st(selprinve_foot_create_li  "    def 
  \n",     " ",
  \ntprint fooreturn        n",
    "")\ootprint\O fted demo MISCrea(\".infogging      lo    "  \n",
   "     ,
      )\n"    ",
    "  s\nlf.crrs=se           c" ",
    on],\nygeometry=[pol       g"       ,\n",
  tprint']}emo_foo: ['de''typMISO'], : ['{'region'       "     n",
    ame(\pd.GeoDataFrt = grin      footp   "  ",
 Frame\nGeoDatareate         # Cn",
    "      \
    "  ",rds)\n(demo_cooon = Polygon   polyg "     ",
   n\nPolygoy import .geometrapely  from sh    "      ygon\n",
e pol Creat #    ,
    "        \n""   
    ",   ]\n    "     n\n",
e polygoos# Cl49.0)   , 4.0 (-10         
    "  dle)\n",nhanpaX West side (T  # ),-104.0, 29.0         (   ",
    "(LA Gulf)\nthwest   # Sou 29.0),      (-94.0,   "       n",
 LA)\South (AR/3.0),   # 94.0, 3          (-",
    "  )\nTN(KY/outheast ,   # S36.5)    (-84.0,          "  ,
 order)\n"OH bde (# East si  .0, 41.5),   (-82        "      ",
nada)\nCa corner (MI/# Northeast49.0),   ,     (-82.0       "  \n",
   T border)corner (ND/Mhwest  # Nort.0), , 494.0   (-10"         ",
    ords = [\ndemo_co          " 
     \n",    "    ",
R, LA, MS\n MO, AMN, IA,I, WI, N, M IIL,ing ughly covertes ro # Coordina       "   \n",
 gion the main recovering polygon as aotprint SO fomate MIApproxi"        #    ",
 n"\"\sting\"\/teelopmentnt for devotprified demo foimplite s\"Crea    \"\"    
    ":\n",GeoDataFrame -> gpd.rint(self)footpdemo_create_   def _
    " "    \n",   
 se\n",         rai "   
   \n",{e}\") footprint: ing MISOError creatf\"error(ng.     loggi           "s e:\n",
xception a E   except
    "     ",        \n
    "    rint\n",return footp               ",
 \n"           ",
    " nds}\")\nnt.total_bouritpfoo {s: boundrint\"Footpg.info(fin        logg
    "    ")\n",m²\0f} kkm2:..area_ated: {selftprint creO fooMIS"\info(fng.       loggi "       ,
      \n""       
    nt\n", = footprif.footprintel s      "     ",
    \n       "        
 ²\n",rt m² to kmve# Con() / 1e6  try.area.summ.geomefootprint_utm2 = ea_k     self.ar    
    "   ",area calc\ntor for caeb Mer')  # W3857crs('EPSG:o_rint.t footpm =print_utoot   f    "      ",
   \naarete # Calcula           "     ",
       \n"       
  ,rs)\n"f.c_crs(selotprint.toint = fotpr  foo           
    "   rs:\n",.c!= selfcrs footprint.   if "         n",
    ect CRS\ corr Ensure #        
    "       \n",        n",
    "lified)\int(use_simp_footprte_livecrealf._int = se    footpr   "         ",
    n     else:\   "       ",
 rint()\ne_demo_footpreat self._ct =rin     footp       "       \n",
 \":demode() == \"e_mo_runtimager.getconfig_manif          
    "   nt\n",prid MISO footplifie sime acreatde, mo mo de# For          
    "  ,  try:\n"   "      
 \n","\"\"\          ",
  n"n\ygootprint polfo MISO taFrame with       GeoDa
    "     ns:\n",     Retur   ,
    "" \n        "    n",
   processing\ for faster aries boundstated fiempli use sied: If True,_simplifi         use    "   rgs:\n",
        A    "",
     \n
    "   ",\nndaries state bourint fromootpe MISO f"\"Creat   \"\
    "     me:\n",GeoDataFrarue) -> gpd. = Ted: boollifi use_simptprint(self,ooe_miso_freat def c"   n",
       \        " ",
None\na_km2 = self.are "        
    None\n",footprint =f."        sel
    n",\ = crs.crs self   "       ,
 \"):\n""EPSG:4326 = \str(self, crs: t____inif     "    den",
 "    \  \n",
 
    "    }   ]\n",     "    \n",
onportirn Manitoba uthe # Sooba'    'Manit         ",
    "': [\nitoriesan_terrcanadi   '
    "     ",       },\n
    " kota\n",uth DaSostern uthearn' # Soastehe 'soutota': 'South Dak"           
    ", Montana\nasternern',   # East 'e  'Montana':          
    "n",anhandle\rn pEastele', # nhandstern_pas': 'eaexa    'T           "on\n",
 stern portiwell north # Smaern',northwestnia': 'ennsylva  'P          "  io\n",
  tern Oh # Northwes',northwestern'Ohio': '        "    ,
    n"y  \rn Kentuck# Weste',  : 'westerncky'    'Kentu       
    " uri\n",astern Misson',  # E'easterMissouri':  '            "   ,
{\n"states': rtial_      'pa,
    "   ],\n" "         pi'\n",
 ississip 'Miana',', 'Louiskansas, 'Arth Dakota''Nor    'Iowa',       "      , \n",
sota'nneconsin', 'Mihigan', 'Wisics', 'Ma', 'Illinoidian   'In       "      : [\n",
l_states'    'ful    "   = {\n",
 S STATE"    MISO_   es)\n",
 rtial statding pancluritories (ier tandtates # MISO s     "  ",
  \n
    "   ",\n"\"tion\"\nd validanition aary defioundory bO territages MIS"\"Man"\"    \",
    print:\nss MISOFoot
    "cla\n", Definitiontprint# MISO Foo [
    "":e
   "sourc: [], "outputs"
  ,ta": {}  "metadanull,
 t": n_counecutio",
   "ex"codeell_type":  {
   "c
 ]
  },  
 s" centroidcalculatingDs and l I cel uniquening Assig4.n",
    "rint\otpSO fo MI the grid topping the  "3. Cli",
  \nacing spth ~40kmnal grid wi a hexagongatier    "2. Genn",
ries\boundaate from sty undarerritory boMISO tefining the  D   "1.\n",
 analysis by: the tion forfounda spatial plements thection imThis se    "\n",
 "n",
   eneration\rid Gonal Gnt and HexagISO Footpri"## M",
        "\n\n",
--"-   e": [
 
   "sourc{},adata": met,
   ""markdown"ype": "cell_t,
  {
     }