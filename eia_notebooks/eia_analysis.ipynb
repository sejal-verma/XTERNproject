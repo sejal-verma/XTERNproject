{
 "cells": [
  {
   "cell_type": "code",
   "execution_count": null,
   "id": "4178aaaa",
   "metadata": {},
   "outputs": [],
   "source": [
    "import requests\n",
    "import pandas as pd\n",
    "from datetime import datetime\n",
    "import os\n",
    "\n",
    "EIA_API_KEY = os.getenv('EIA_API_KEY')\n",
    "\n",
    "# gathers hourly MISO demand from EIA Open Data API\n",
    "def get_miso_demand(start=\"2024-01-01\", end=\"2025-10-01\"):\n",
    "    url = (\n",
    "        \"https://api.eia.gov/v2/electricity/rto/region-data/data/\"\n",
    "        f\"?api_key={EIA_API_KEY}\"\n",
    "        f\"&frequency=hourly&data[0]=value&facets[respondent][]=MISO\"\n",
    "        f\"&start={start}&end={end}\"\n",
    "    )\n",
    "\n",
    "    resp = requests.get(url)\n",
    "    resp.raise_for_status()\n",
    "    json_data = resp.json()\n",
    "\n",
    "    data = json_data[\"response\"][\"data\"]\n",
    "    df = pd.DataFrame(data)\n",
    "\n",
    "    time_col = None\n",
    "    for col in [\"period\", \"date\", \"datetime\", \"local_time\"]:\n",
    "        if col in df.columns:\n",
    "            time_col = col\n",
    "            break\n",
    "\n",
    "    # convert timestamp column\n",
    "    df[\"timestamp\"] = pd.to_datetime(df[time_col], errors=\"coerce\")\n",
    "\n",
    "    # standardize column naming\n",
    "    if \"value\" not in df.columns:\n",
    "        raise KeyError(\"Missing 'value' column — check EIA response format\")\n",
    "    df = df.rename(columns={\"value\": \"demand_MWh\"})\n",
    "\n",
    "    # keep relevant columns\n",
    "    keep_cols = [\"timestamp\", \"demand_MWh\", \"respondent\", \"timezone\", \"product\"]\n",
    "    df = df[[c for c in keep_cols if c in df.columns]]\n",
    "\n",
    "    df = df.sort_values(\"timestamp\")\n",
    "    return df\n",
    "\n",
    "df = get_miso_demand()\n",
    "df.to_csv(f\"../data/eia/eia_miso_demand_{datetime.now().strftime('%Y%m%d')}.csv\", index=False)\n"
   ]
  },
  {
   "cell_type": "code",
   "execution_count": null,
   "id": "7659a100",
   "metadata": {},
   "outputs": [],
   "source": []
  }
 ],
 "metadata": {
  "kernelspec": {
   "display_name": "xtern-venv",
   "language": "python",
   "name": "python3"
  },
  "language_info": {
   "codemirror_mode": {
    "name": "ipython",
    "version": 3
   },
   "file_extension": ".py",
   "mimetype": "text/x-python",
   "name": "python",
   "nbconvert_exporter": "python",
   "pygments_lexer": "ipython3",
   "version": "3.13.7"
  }
 },
 "nbformat": 4,
 "nbformat_minor": 5
}
